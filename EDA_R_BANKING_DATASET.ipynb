{
  "cells": [
    {
      "cell_type": "markdown",
      "id": "57b1b98b",
      "metadata": {
        "id": "57b1b98b"
      },
      "source": [
        "# PA 1: Exploratory Analysis over Dataset_R"
      ]
    },
    {
      "cell_type": "markdown",
      "id": "7a239162",
      "metadata": {
        "id": "7a239162"
      },
      "source": [
        "# Dataset Details\n",
        "\n",
        "In this assignment, you will work on dataset_R. The columns of the data-set are:\n",
        "\n",
        "- Loan Status - Loan approved (Y/N)\n",
        "- Loan_ID - Unique Loan ID\n",
        "- Gender - Male/ Female\n",
        "- Married - Applicant married (Y/N)\n",
        "- Dependents - Number of dependents\n",
        "- Education Applicant - Education (Graduate/ Under Graduate)\n",
        "- Self_Employed Self - employed (Y/N)\n",
        "- ApplicantIncome - Applicant income\n",
        "- CoapplicantIncome - Coapplicant income\n",
        "- LoanAmount - Loan amount in thousands\n",
        "- Loan_Amount_Term - Term of loan in months\n",
        "- Credit_History - credit history meets guidelines\n",
        "- Property_Area - Urban/ Semi Urban/ Rural)"
      ]
    },
    {
      "cell_type": "code",
      "execution_count": null,
      "id": "61df63bf",
      "metadata": {
        "id": "61df63bf",
        "outputId": "fe8362cd-afce-4c1f-bbc1-e702291078df"
      },
      "outputs": [
        {
          "name": "stderr",
          "output_type": "stream",
          "text": [
            "also installing the dependencies 'cli', 'lifecycle', 'pillar', 'rlang', 'tidyselect', 'vctrs'\n",
            "\n"
          ]
        },
        {
          "name": "stdout",
          "output_type": "stream",
          "text": [
            "\n",
            "  There are binary versions available but the source versions are later:\n",
            "           binary source needs_compilation\n",
            "cli         2.5.0  3.6.0              TRUE\n",
            "lifecycle   1.0.0  1.0.3             FALSE\n",
            "pillar      1.6.0  1.8.1             FALSE\n",
            "rlang      0.4.11  1.0.6              TRUE\n",
            "tidyselect  1.1.1  1.2.0             FALSE\n",
            "vctrs       0.3.8  0.5.2              TRUE\n",
            "dplyr       1.0.6  1.1.0              TRUE\n",
            "\n",
            "  Binaries will be installed\n",
            "package 'cli' successfully unpacked and MD5 sums checked\n",
            "package 'rlang' successfully unpacked and MD5 sums checked\n",
            "package 'vctrs' successfully unpacked and MD5 sums checked\n",
            "package 'dplyr' successfully unpacked and MD5 sums checked\n",
            "\n",
            "The downloaded binary packages are in\n",
            "\tC:\\Users\\Aman Attar\\AppData\\Local\\Temp\\RtmpU5zmWo\\downloaded_packages\n"
          ]
        },
        {
          "name": "stderr",
          "output_type": "stream",
          "text": [
            "installing the source packages 'lifecycle', 'pillar', 'tidyselect'\n",
            "\n",
            "Warning message in install.packages(\"dplyr\"):\n",
            "\"installation of package 'lifecycle' had non-zero exit status\"Warning message in install.packages(\"dplyr\"):\n",
            "\"installation of package 'pillar' had non-zero exit status\"Warning message in install.packages(\"dplyr\"):\n",
            "\"installation of package 'tidyselect' had non-zero exit status\"also installing the dependencies 'cli', 'lifecycle', 'rlang', 'scales', 'vctrs'\n",
            "\n"
          ]
        },
        {
          "name": "stdout",
          "output_type": "stream",
          "text": [
            "\n",
            "  There are binary versions available but the source versions are later:\n",
            "          binary source needs_compilation\n",
            "cli        2.5.0  3.6.0              TRUE\n",
            "lifecycle  1.0.0  1.0.3             FALSE\n",
            "rlang     0.4.11  1.0.6              TRUE\n",
            "scales     1.1.1  1.2.1             FALSE\n",
            "vctrs      0.3.8  0.5.2              TRUE\n",
            "ggplot2    3.3.3  3.4.1             FALSE\n",
            "\n",
            "  Binaries will be installed\n",
            "package 'cli' successfully unpacked and MD5 sums checked\n",
            "package 'rlang' successfully unpacked and MD5 sums checked\n",
            "package 'vctrs' successfully unpacked and MD5 sums checked\n",
            "\n",
            "The downloaded binary packages are in\n",
            "\tC:\\Users\\Aman Attar\\AppData\\Local\\Temp\\RtmpU5zmWo\\downloaded_packages\n"
          ]
        },
        {
          "name": "stderr",
          "output_type": "stream",
          "text": [
            "installing the source packages 'lifecycle', 'scales', 'ggplot2'\n",
            "\n",
            "Warning message in install.packages(\"ggplot2\"):\n",
            "\"installation of package 'lifecycle' had non-zero exit status\"Warning message in install.packages(\"ggplot2\"):\n",
            "\"installation of package 'scales' had non-zero exit status\"Warning message in install.packages(\"ggplot2\"):\n",
            "\"installation of package 'ggplot2' had non-zero exit status\"also installing the dependencies 'cli', 'lifecycle', 'rlang'\n",
            "\n"
          ]
        },
        {
          "name": "stdout",
          "output_type": "stream",
          "text": [
            "\n",
            "  There are binary versions available but the source versions are later:\n",
            "          binary source needs_compilation\n",
            "cli        2.5.0  3.6.0              TRUE\n",
            "lifecycle  1.0.0  1.0.3             FALSE\n",
            "rlang     0.4.11  1.0.6              TRUE\n",
            "forcats    0.5.1  1.0.0             FALSE\n",
            "\n",
            "  Binaries will be installed\n",
            "package 'cli' successfully unpacked and MD5 sums checked\n",
            "package 'rlang' successfully unpacked and MD5 sums checked\n",
            "\n",
            "The downloaded binary packages are in\n",
            "\tC:\\Users\\Aman Attar\\AppData\\Local\\Temp\\RtmpU5zmWo\\downloaded_packages\n"
          ]
        },
        {
          "name": "stderr",
          "output_type": "stream",
          "text": [
            "installing the source packages 'lifecycle', 'forcats'\n",
            "\n",
            "Warning message in install.packages(\"forcats\"):\n",
            "\"installation of package 'lifecycle' had non-zero exit status\"Warning message in install.packages(\"forcats\"):\n",
            "\"installation of package 'forcats' had non-zero exit status\""
          ]
        }
      ],
      "source": [
        "install.packages(\"dplyr\")\n",
        "install.packages(\"ggplot2\")\n",
        "install.packages(\"forcats\")\n"
      ]
    },
    {
      "cell_type": "code",
      "execution_count": null,
      "id": "475a8139",
      "metadata": {
        "id": "475a8139",
        "outputId": "1030d09a-d23f-4fb4-96d6-4619dda662e7"
      },
      "outputs": [
        {
          "ename": "ERROR",
          "evalue": "Error in library(\"ggplot2\"): there is no package called 'ggplot2'\n",
          "output_type": "error",
          "traceback": [
            "Error in library(\"ggplot2\"): there is no package called 'ggplot2'\nTraceback:\n",
            "1. library(\"ggplot2\")"
          ]
        }
      ],
      "source": [
        "# Import R packages\n",
        "\n",
        "library(\"ggplot2\")\n",
        "library(\"dplyr\")\n",
        "library(\"forcats\")\n"
      ]
    },
    {
      "cell_type": "code",
      "execution_count": null,
      "id": "47ee6142",
      "metadata": {
        "id": "47ee6142"
      },
      "outputs": [],
      "source": [
        "# Read the file\n",
        "loan_data_df <- read.csv(\"dataset_R.csv\")"
      ]
    },
    {
      "cell_type": "code",
      "execution_count": null,
      "id": "b21115a1",
      "metadata": {
        "id": "b21115a1",
        "outputId": "608ab6f2-5843-45ad-a64a-432174dfd70e"
      },
      "outputs": [
        {
          "data": {
            "text/html": [
              "<table>\n",
              "<thead><tr><th scope=col>Loan_ID</th><th scope=col>Gender</th><th scope=col>Married</th><th scope=col>Dependents</th><th scope=col>Education</th><th scope=col>Self_Employed</th><th scope=col>ApplicantIncome</th><th scope=col>CoapplicantIncome</th><th scope=col>LoanAmount</th><th scope=col>Loan_Amount_Term</th><th scope=col>Credit_History</th><th scope=col>Property_Area</th><th scope=col>Loan_Status</th></tr></thead>\n",
              "<tbody>\n",
              "\t<tr><td>LP001002    </td><td>Male        </td><td>No          </td><td>0           </td><td>Graduate    </td><td>No          </td><td>5849        </td><td>   0        </td><td> NA         </td><td>360         </td><td>1           </td><td>Urban       </td><td>Y           </td></tr>\n",
              "\t<tr><td>LP001003    </td><td>Male        </td><td>Yes         </td><td>1           </td><td>Graduate    </td><td>No          </td><td>4583        </td><td>1508        </td><td>128         </td><td>360         </td><td>1           </td><td>Rural       </td><td>N           </td></tr>\n",
              "\t<tr><td>LP001005    </td><td>Male        </td><td>Yes         </td><td>0           </td><td>Graduate    </td><td>Yes         </td><td>3000        </td><td>   0        </td><td> 66         </td><td>360         </td><td>1           </td><td>Urban       </td><td>Y           </td></tr>\n",
              "\t<tr><td>LP001006    </td><td>Male        </td><td>Yes         </td><td>0           </td><td>Not Graduate</td><td>No          </td><td>2583        </td><td>2358        </td><td>120         </td><td>360         </td><td>1           </td><td>Urban       </td><td>Y           </td></tr>\n",
              "\t<tr><td>LP001008    </td><td>Male        </td><td>No          </td><td>0           </td><td>Graduate    </td><td>No          </td><td>6000        </td><td>   0        </td><td>141         </td><td>360         </td><td>1           </td><td>Urban       </td><td>Y           </td></tr>\n",
              "</tbody>\n",
              "</table>\n"
            ],
            "text/latex": [
              "\\begin{tabular}{r|lllllllllllll}\n",
              " Loan\\_ID & Gender & Married & Dependents & Education & Self\\_Employed & ApplicantIncome & CoapplicantIncome & LoanAmount & Loan\\_Amount\\_Term & Credit\\_History & Property\\_Area & Loan\\_Status\\\\\n",
              "\\hline\n",
              "\t LP001002     & Male         & No           & 0            & Graduate     & No           & 5849         &    0         &  NA          & 360          & 1            & Urban        & Y           \\\\\n",
              "\t LP001003     & Male         & Yes          & 1            & Graduate     & No           & 4583         & 1508         & 128          & 360          & 1            & Rural        & N           \\\\\n",
              "\t LP001005     & Male         & Yes          & 0            & Graduate     & Yes          & 3000         &    0         &  66          & 360          & 1            & Urban        & Y           \\\\\n",
              "\t LP001006     & Male         & Yes          & 0            & Not Graduate & No           & 2583         & 2358         & 120          & 360          & 1            & Urban        & Y           \\\\\n",
              "\t LP001008     & Male         & No           & 0            & Graduate     & No           & 6000         &    0         & 141          & 360          & 1            & Urban        & Y           \\\\\n",
              "\\end{tabular}\n"
            ],
            "text/markdown": [
              "\n",
              "| Loan_ID | Gender | Married | Dependents | Education | Self_Employed | ApplicantIncome | CoapplicantIncome | LoanAmount | Loan_Amount_Term | Credit_History | Property_Area | Loan_Status |\n",
              "|---|---|---|---|---|---|---|---|---|---|---|---|---|\n",
              "| LP001002     | Male         | No           | 0            | Graduate     | No           | 5849         |    0         |  NA          | 360          | 1            | Urban        | Y            |\n",
              "| LP001003     | Male         | Yes          | 1            | Graduate     | No           | 4583         | 1508         | 128          | 360          | 1            | Rural        | N            |\n",
              "| LP001005     | Male         | Yes          | 0            | Graduate     | Yes          | 3000         |    0         |  66          | 360          | 1            | Urban        | Y            |\n",
              "| LP001006     | Male         | Yes          | 0            | Not Graduate | No           | 2583         | 2358         | 120          | 360          | 1            | Urban        | Y            |\n",
              "| LP001008     | Male         | No           | 0            | Graduate     | No           | 6000         |    0         | 141          | 360          | 1            | Urban        | Y            |\n",
              "\n"
            ],
            "text/plain": [
              "  Loan_ID  Gender Married Dependents Education    Self_Employed ApplicantIncome\n",
              "1 LP001002 Male   No      0          Graduate     No            5849           \n",
              "2 LP001003 Male   Yes     1          Graduate     No            4583           \n",
              "3 LP001005 Male   Yes     0          Graduate     Yes           3000           \n",
              "4 LP001006 Male   Yes     0          Not Graduate No            2583           \n",
              "5 LP001008 Male   No      0          Graduate     No            6000           \n",
              "  CoapplicantIncome LoanAmount Loan_Amount_Term Credit_History Property_Area\n",
              "1    0               NA        360              1              Urban        \n",
              "2 1508              128        360              1              Rural        \n",
              "3    0               66        360              1              Urban        \n",
              "4 2358              120        360              1              Urban        \n",
              "5    0              141        360              1              Urban        \n",
              "  Loan_Status\n",
              "1 Y          \n",
              "2 N          \n",
              "3 Y          \n",
              "4 Y          \n",
              "5 Y          "
            ]
          },
          "metadata": {},
          "output_type": "display_data"
        }
      ],
      "source": [
        "# return the first 5 rows of the dataset\n",
        "head(loan_data_df,5)"
      ]
    },
    {
      "cell_type": "markdown",
      "id": "f7923d25",
      "metadata": {
        "id": "f7923d25"
      },
      "source": [
        "# Task 1: Statistical Exploratory Data Analysis(17.5 points)"
      ]
    },
    {
      "cell_type": "code",
      "execution_count": null,
      "id": "35780b26",
      "metadata": {
        "scrolled": false,
        "id": "35780b26",
        "outputId": "bfaf27a0-a16f-4643-f944-fe53c1af6dbb"
      },
      "outputs": [
        {
          "data": {
            "text/html": [
              "<dl class=dl-horizontal>\n",
              "\t<dt>Loan_ID</dt>\n",
              "\t\t<dd>0</dd>\n",
              "\t<dt>Gender</dt>\n",
              "\t\t<dd>0</dd>\n",
              "\t<dt>Married</dt>\n",
              "\t\t<dd>0</dd>\n",
              "\t<dt>Dependents</dt>\n",
              "\t\t<dd>0</dd>\n",
              "\t<dt>Education</dt>\n",
              "\t\t<dd>0</dd>\n",
              "\t<dt>Self_Employed</dt>\n",
              "\t\t<dd>0</dd>\n",
              "\t<dt>ApplicantIncome</dt>\n",
              "\t\t<dd>0</dd>\n",
              "\t<dt>CoapplicantIncome</dt>\n",
              "\t\t<dd>0</dd>\n",
              "\t<dt>LoanAmount</dt>\n",
              "\t\t<dd>22</dd>\n",
              "\t<dt>Loan_Amount_Term</dt>\n",
              "\t\t<dd>14</dd>\n",
              "\t<dt>Credit_History</dt>\n",
              "\t\t<dd>50</dd>\n",
              "\t<dt>Property_Area</dt>\n",
              "\t\t<dd>0</dd>\n",
              "\t<dt>Loan_Status</dt>\n",
              "\t\t<dd>0</dd>\n",
              "</dl>\n"
            ],
            "text/latex": [
              "\\begin{description*}\n",
              "\\item[Loan\\textbackslash{}\\_ID] 0\n",
              "\\item[Gender] 0\n",
              "\\item[Married] 0\n",
              "\\item[Dependents] 0\n",
              "\\item[Education] 0\n",
              "\\item[Self\\textbackslash{}\\_Employed] 0\n",
              "\\item[ApplicantIncome] 0\n",
              "\\item[CoapplicantIncome] 0\n",
              "\\item[LoanAmount] 22\n",
              "\\item[Loan\\textbackslash{}\\_Amount\\textbackslash{}\\_Term] 14\n",
              "\\item[Credit\\textbackslash{}\\_History] 50\n",
              "\\item[Property\\textbackslash{}\\_Area] 0\n",
              "\\item[Loan\\textbackslash{}\\_Status] 0\n",
              "\\end{description*}\n"
            ],
            "text/markdown": [
              "Loan_ID\n",
              ":   0Gender\n",
              ":   0Married\n",
              ":   0Dependents\n",
              ":   0Education\n",
              ":   0Self_Employed\n",
              ":   0ApplicantIncome\n",
              ":   0CoapplicantIncome\n",
              ":   0LoanAmount\n",
              ":   22Loan_Amount_Term\n",
              ":   14Credit_History\n",
              ":   50Property_Area\n",
              ":   0Loan_Status\n",
              ":   0\n",
              "\n"
            ],
            "text/plain": [
              "          Loan_ID            Gender           Married        Dependents \n",
              "                0                 0                 0                 0 \n",
              "        Education     Self_Employed   ApplicantIncome CoapplicantIncome \n",
              "                0                 0                 0                 0 \n",
              "       LoanAmount  Loan_Amount_Term    Credit_History     Property_Area \n",
              "               22                14                50                 0 \n",
              "      Loan_Status \n",
              "                0 "
            ]
          },
          "metadata": {},
          "output_type": "display_data"
        },
        {
          "data": {
            "text/html": [
              "<table>\n",
              "<thead><tr><th></th><th scope=col>Loan_ID</th><th scope=col>Gender</th><th scope=col>Married</th><th scope=col>Dependents</th><th scope=col>Education</th><th scope=col>Self_Employed</th><th scope=col>ApplicantIncome</th><th scope=col>CoapplicantIncome</th><th scope=col>LoanAmount</th><th scope=col>Loan_Amount_Term</th><th scope=col>Credit_History</th><th scope=col>Property_Area</th><th scope=col>Loan_Status</th></tr></thead>\n",
              "<tbody>\n",
              "\t<tr><th scope=row>2</th><td>LP001003    </td><td>Male        </td><td>Yes         </td><td>1           </td><td>Graduate    </td><td>No          </td><td> 4583       </td><td> 1508       </td><td>128         </td><td>360         </td><td>1           </td><td>Rural       </td><td>N           </td></tr>\n",
              "\t<tr><th scope=row>3</th><td>LP001005    </td><td>Male        </td><td>Yes         </td><td>0           </td><td>Graduate    </td><td>Yes         </td><td> 3000       </td><td>    0       </td><td> 66         </td><td>360         </td><td>1           </td><td>Urban       </td><td>Y           </td></tr>\n",
              "\t<tr><th scope=row>4</th><td>LP001006    </td><td>Male        </td><td>Yes         </td><td>0           </td><td>Not Graduate</td><td>No          </td><td> 2583       </td><td> 2358       </td><td>120         </td><td>360         </td><td>1           </td><td>Urban       </td><td>Y           </td></tr>\n",
              "\t<tr><th scope=row>5</th><td>LP001008    </td><td>Male        </td><td>No          </td><td>0           </td><td>Graduate    </td><td>No          </td><td> 6000       </td><td>    0       </td><td>141         </td><td>360         </td><td>1           </td><td>Urban       </td><td>Y           </td></tr>\n",
              "\t<tr><th scope=row>6</th><td>LP001011    </td><td>Male        </td><td>Yes         </td><td>2           </td><td>Graduate    </td><td>Yes         </td><td> 5417       </td><td> 4196       </td><td>267         </td><td>360         </td><td>1           </td><td>Urban       </td><td>Y           </td></tr>\n",
              "\t<tr><th scope=row>7</th><td>LP001013    </td><td>Male        </td><td>Yes         </td><td>0           </td><td>Not Graduate</td><td>No          </td><td> 2333       </td><td> 1516       </td><td> 95         </td><td>360         </td><td>1           </td><td>Urban       </td><td>Y           </td></tr>\n",
              "\t<tr><th scope=row>8</th><td>LP001014    </td><td>Male        </td><td>Yes         </td><td>3+          </td><td>Graduate    </td><td>No          </td><td> 3036       </td><td> 2504       </td><td>158         </td><td>360         </td><td>0           </td><td>Semiurban   </td><td>N           </td></tr>\n",
              "\t<tr><th scope=row>9</th><td>LP001018    </td><td>Male        </td><td>Yes         </td><td>2           </td><td>Graduate    </td><td>No          </td><td> 4006       </td><td> 1526       </td><td>168         </td><td>360         </td><td>1           </td><td>Urban       </td><td>Y           </td></tr>\n",
              "\t<tr><th scope=row>10</th><td>LP001020    </td><td>Male        </td><td>Yes         </td><td>1           </td><td>Graduate    </td><td>No          </td><td>12841       </td><td>10968       </td><td>349         </td><td>360         </td><td>1           </td><td>Semiurban   </td><td>N           </td></tr>\n",
              "\t<tr><th scope=row>11</th><td>LP001024    </td><td>Male        </td><td>Yes         </td><td>2           </td><td>Graduate    </td><td>No          </td><td> 3200       </td><td>  700       </td><td> 70         </td><td>360         </td><td>1           </td><td>Urban       </td><td>Y           </td></tr>\n",
              "\t<tr><th scope=row>12</th><td>LP001027    </td><td>Male        </td><td>Yes         </td><td>2           </td><td>Graduate    </td><td>            </td><td> 2500       </td><td> 1840       </td><td>109         </td><td>360         </td><td>1           </td><td>Urban       </td><td>Y           </td></tr>\n",
              "\t<tr><th scope=row>13</th><td>LP001028    </td><td>Male        </td><td>Yes         </td><td>2           </td><td>Graduate    </td><td>No          </td><td> 3073       </td><td> 8106       </td><td>200         </td><td>360         </td><td>1           </td><td>Urban       </td><td>Y           </td></tr>\n",
              "\t<tr><th scope=row>14</th><td>LP001029    </td><td>Male        </td><td>No          </td><td>0           </td><td>Graduate    </td><td>No          </td><td> 1853       </td><td> 2840       </td><td>114         </td><td>360         </td><td>1           </td><td>Rural       </td><td>N           </td></tr>\n",
              "\t<tr><th scope=row>15</th><td>LP001030    </td><td>Male        </td><td>Yes         </td><td>2           </td><td>Graduate    </td><td>No          </td><td> 1299       </td><td> 1086       </td><td> 17         </td><td>120         </td><td>1           </td><td>Urban       </td><td>Y           </td></tr>\n",
              "\t<tr><th scope=row>16</th><td>LP001032    </td><td>Male        </td><td>No          </td><td>0           </td><td>Graduate    </td><td>No          </td><td> 4950       </td><td>    0       </td><td>125         </td><td>360         </td><td>1           </td><td>Urban       </td><td>Y           </td></tr>\n",
              "\t<tr><th scope=row>18</th><td>LP001036    </td><td>Female      </td><td>No          </td><td>0           </td><td>Graduate    </td><td>No          </td><td> 3510       </td><td>    0       </td><td> 76         </td><td>360         </td><td>0           </td><td>Urban       </td><td>N           </td></tr>\n",
              "\t<tr><th scope=row>19</th><td>LP001038    </td><td>Male        </td><td>Yes         </td><td>0           </td><td>Not Graduate</td><td>No          </td><td> 4887       </td><td>    0       </td><td>133         </td><td>360         </td><td>1           </td><td>Rural       </td><td>N           </td></tr>\n",
              "\t<tr><th scope=row>21</th><td>LP001043    </td><td>Male        </td><td>Yes         </td><td>0           </td><td>Not Graduate</td><td>No          </td><td> 7660       </td><td>    0       </td><td>104         </td><td>360         </td><td>0           </td><td>Urban       </td><td>N           </td></tr>\n",
              "\t<tr><th scope=row>22</th><td>LP001046    </td><td>Male        </td><td>Yes         </td><td>1           </td><td>Graduate    </td><td>No          </td><td> 5955       </td><td> 5625       </td><td>315         </td><td>360         </td><td>1           </td><td>Urban       </td><td>Y           </td></tr>\n",
              "\t<tr><th scope=row>23</th><td>LP001047    </td><td>Male        </td><td>Yes         </td><td>0           </td><td>Not Graduate</td><td>No          </td><td> 2600       </td><td> 1911       </td><td>116         </td><td>360         </td><td>0           </td><td>Semiurban   </td><td>N           </td></tr>\n",
              "\t<tr><th scope=row>24</th><td>LP001050    </td><td>            </td><td>Yes         </td><td>2           </td><td>Not Graduate</td><td>No          </td><td> 3365       </td><td> 1917       </td><td>112         </td><td>360         </td><td>0           </td><td>Rural       </td><td>N           </td></tr>\n",
              "\t<tr><th scope=row>26</th><td>LP001066    </td><td>Male        </td><td>Yes         </td><td>0           </td><td>Graduate    </td><td>Yes         </td><td> 9560       </td><td>    0       </td><td>191         </td><td>360         </td><td>1           </td><td>Semiurban   </td><td>Y           </td></tr>\n",
              "\t<tr><th scope=row>27</th><td>LP001068    </td><td>Male        </td><td>Yes         </td><td>0           </td><td>Graduate    </td><td>No          </td><td> 2799       </td><td> 2253       </td><td>122         </td><td>360         </td><td>1           </td><td>Semiurban   </td><td>Y           </td></tr>\n",
              "\t<tr><th scope=row>28</th><td>LP001073    </td><td>Male        </td><td>Yes         </td><td>2           </td><td>Not Graduate</td><td>No          </td><td> 4226       </td><td> 1040       </td><td>110         </td><td>360         </td><td>1           </td><td>Urban       </td><td>Y           </td></tr>\n",
              "\t<tr><th scope=row>29</th><td>LP001086    </td><td>Male        </td><td>No          </td><td>0           </td><td>Not Graduate</td><td>No          </td><td> 1442       </td><td>    0       </td><td> 35         </td><td>360         </td><td>1           </td><td>Urban       </td><td>N           </td></tr>\n",
              "\t<tr><th scope=row>30</th><td>LP001087    </td><td>Female      </td><td>No          </td><td>2           </td><td>Graduate    </td><td>            </td><td> 3750       </td><td> 2083       </td><td>120         </td><td>360         </td><td>1           </td><td>Semiurban   </td><td>Y           </td></tr>\n",
              "\t<tr><th scope=row>32</th><td>LP001095    </td><td>Male        </td><td>No          </td><td>0           </td><td>Graduate    </td><td>No          </td><td> 3167       </td><td>    0       </td><td> 74         </td><td>360         </td><td>1           </td><td>Urban       </td><td>N           </td></tr>\n",
              "\t<tr><th scope=row>33</th><td>LP001097    </td><td>Male        </td><td>No          </td><td>1           </td><td>Graduate    </td><td>Yes         </td><td> 4692       </td><td>    0       </td><td>106         </td><td>360         </td><td>1           </td><td>Rural       </td><td>N           </td></tr>\n",
              "\t<tr><th scope=row>34</th><td>LP001098    </td><td>Male        </td><td>Yes         </td><td>0           </td><td>Graduate    </td><td>No          </td><td> 3500       </td><td> 1667       </td><td>114         </td><td>360         </td><td>1           </td><td>Semiurban   </td><td>Y           </td></tr>\n",
              "\t<tr><th scope=row>35</th><td>LP001100    </td><td>Male        </td><td>No          </td><td>3+          </td><td>Graduate    </td><td>No          </td><td>12500       </td><td> 3000       </td><td>320         </td><td>360         </td><td>1           </td><td>Rural       </td><td>N           </td></tr>\n",
              "\t<tr><th scope=row>...</th><td>...</td><td>...</td><td>...</td><td>...</td><td>...</td><td>...</td><td>...</td><td>...</td><td>...</td><td>...</td><td>...</td><td>...</td><td>...</td></tr>\n",
              "\t<tr><th scope=row>582</th><td>LP002893    </td><td>Male        </td><td>No          </td><td>0           </td><td>Graduate    </td><td>No          </td><td> 1836       </td><td>33837       </td><td> 90         </td><td>360         </td><td>1           </td><td>Urban       </td><td>N           </td></tr>\n",
              "\t<tr><th scope=row>583</th><td>LP002894    </td><td>Female      </td><td>Yes         </td><td>0           </td><td>Graduate    </td><td>No          </td><td> 3166       </td><td>    0       </td><td> 36         </td><td>360         </td><td>1           </td><td>Semiurban   </td><td>Y           </td></tr>\n",
              "\t<tr><th scope=row>585</th><td>LP002911    </td><td>Male        </td><td>Yes         </td><td>1           </td><td>Graduate    </td><td>No          </td><td> 2787       </td><td> 1917       </td><td>146         </td><td>360         </td><td>0           </td><td>Rural       </td><td>N           </td></tr>\n",
              "\t<tr><th scope=row>586</th><td>LP002912    </td><td>Male        </td><td>Yes         </td><td>1           </td><td>Graduate    </td><td>No          </td><td> 4283       </td><td> 3000       </td><td>172         </td><td> 84         </td><td>1           </td><td>Rural       </td><td>N           </td></tr>\n",
              "\t<tr><th scope=row>587</th><td>LP002916    </td><td>Male        </td><td>Yes         </td><td>0           </td><td>Graduate    </td><td>No          </td><td> 2297       </td><td> 1522       </td><td>104         </td><td>360         </td><td>1           </td><td>Urban       </td><td>Y           </td></tr>\n",
              "\t<tr><th scope=row>588</th><td>LP002917    </td><td>Female      </td><td>No          </td><td>0           </td><td>Not Graduate</td><td>No          </td><td> 2165       </td><td>    0       </td><td> 70         </td><td>360         </td><td>1           </td><td>Semiurban   </td><td>Y           </td></tr>\n",
              "\t<tr><th scope=row>589</th><td>LP002925    </td><td>            </td><td>No          </td><td>0           </td><td>Graduate    </td><td>No          </td><td> 4750       </td><td>    0       </td><td> 94         </td><td>360         </td><td>1           </td><td>Semiurban   </td><td>Y           </td></tr>\n",
              "\t<tr><th scope=row>590</th><td>LP002926    </td><td>Male        </td><td>Yes         </td><td>2           </td><td>Graduate    </td><td>Yes         </td><td> 2726       </td><td>    0       </td><td>106         </td><td>360         </td><td>0           </td><td>Semiurban   </td><td>N           </td></tr>\n",
              "\t<tr><th scope=row>591</th><td>LP002928    </td><td>Male        </td><td>Yes         </td><td>0           </td><td>Graduate    </td><td>No          </td><td> 3000       </td><td> 3416       </td><td> 56         </td><td>180         </td><td>1           </td><td>Semiurban   </td><td>Y           </td></tr>\n",
              "\t<tr><th scope=row>592</th><td>LP002931    </td><td>Male        </td><td>Yes         </td><td>2           </td><td>Graduate    </td><td>Yes         </td><td> 6000       </td><td>    0       </td><td>205         </td><td>240         </td><td>1           </td><td>Semiurban   </td><td>N           </td></tr>\n",
              "\t<tr><th scope=row>593</th><td>LP002933    </td><td>            </td><td>No          </td><td>3+          </td><td>Graduate    </td><td>Yes         </td><td> 9357       </td><td>    0       </td><td>292         </td><td>360         </td><td>1           </td><td>Semiurban   </td><td>Y           </td></tr>\n",
              "\t<tr><th scope=row>594</th><td>LP002936    </td><td>Male        </td><td>Yes         </td><td>0           </td><td>Graduate    </td><td>No          </td><td> 3859       </td><td> 3300       </td><td>142         </td><td>180         </td><td>1           </td><td>Rural       </td><td>Y           </td></tr>\n",
              "\t<tr><th scope=row>595</th><td>LP002938    </td><td>Male        </td><td>Yes         </td><td>0           </td><td>Graduate    </td><td>Yes         </td><td>16120       </td><td>    0       </td><td>260         </td><td>360         </td><td>1           </td><td>Urban       </td><td>Y           </td></tr>\n",
              "\t<tr><th scope=row>596</th><td>LP002940    </td><td>Male        </td><td>No          </td><td>0           </td><td>Not Graduate</td><td>No          </td><td> 3833       </td><td>    0       </td><td>110         </td><td>360         </td><td>1           </td><td>Rural       </td><td>Y           </td></tr>\n",
              "\t<tr><th scope=row>597</th><td>LP002941    </td><td>Male        </td><td>Yes         </td><td>2           </td><td>Not Graduate</td><td>Yes         </td><td> 6383       </td><td> 1000       </td><td>187         </td><td>360         </td><td>1           </td><td>Rural       </td><td>N           </td></tr>\n",
              "\t<tr><th scope=row>598</th><td>LP002943    </td><td>Male        </td><td>No          </td><td>            </td><td>Graduate    </td><td>No          </td><td> 2987       </td><td>    0       </td><td> 88         </td><td>360         </td><td>0           </td><td>Semiurban   </td><td>N           </td></tr>\n",
              "\t<tr><th scope=row>599</th><td>LP002945    </td><td>Male        </td><td>Yes         </td><td>0           </td><td>Graduate    </td><td>Yes         </td><td> 9963       </td><td>    0       </td><td>180         </td><td>360         </td><td>1           </td><td>Rural       </td><td>Y           </td></tr>\n",
              "\t<tr><th scope=row>600</th><td>LP002948    </td><td>Male        </td><td>Yes         </td><td>2           </td><td>Graduate    </td><td>No          </td><td> 5780       </td><td>    0       </td><td>192         </td><td>360         </td><td>1           </td><td>Urban       </td><td>Y           </td></tr>\n",
              "\t<tr><th scope=row>602</th><td>LP002950    </td><td>Male        </td><td>Yes         </td><td>0           </td><td>Not Graduate</td><td>            </td><td> 2894       </td><td> 2792       </td><td>155         </td><td>360         </td><td>1           </td><td>Rural       </td><td>Y           </td></tr>\n",
              "\t<tr><th scope=row>603</th><td>LP002953    </td><td>Male        </td><td>Yes         </td><td>3+          </td><td>Graduate    </td><td>No          </td><td> 5703       </td><td>    0       </td><td>128         </td><td>360         </td><td>1           </td><td>Urban       </td><td>Y           </td></tr>\n",
              "\t<tr><th scope=row>604</th><td>LP002958    </td><td>Male        </td><td>No          </td><td>0           </td><td>Graduate    </td><td>No          </td><td> 3676       </td><td> 4301       </td><td>172         </td><td>360         </td><td>1           </td><td>Rural       </td><td>Y           </td></tr>\n",
              "\t<tr><th scope=row>605</th><td>LP002959    </td><td>Female      </td><td>Yes         </td><td>1           </td><td>Graduate    </td><td>No          </td><td>12000       </td><td>    0       </td><td>496         </td><td>360         </td><td>1           </td><td>Semiurban   </td><td>Y           </td></tr>\n",
              "\t<tr><th scope=row>607</th><td>LP002961    </td><td>Male        </td><td>Yes         </td><td>1           </td><td>Graduate    </td><td>No          </td><td> 3400       </td><td> 2500       </td><td>173         </td><td>360         </td><td>1           </td><td>Semiurban   </td><td>Y           </td></tr>\n",
              "\t<tr><th scope=row>608</th><td>LP002964    </td><td>Male        </td><td>Yes         </td><td>2           </td><td>Not Graduate</td><td>No          </td><td> 3987       </td><td> 1411       </td><td>157         </td><td>360         </td><td>1           </td><td>Rural       </td><td>Y           </td></tr>\n",
              "\t<tr><th scope=row>609</th><td>LP002974    </td><td>Male        </td><td>Yes         </td><td>0           </td><td>Graduate    </td><td>No          </td><td> 3232       </td><td> 1950       </td><td>108         </td><td>360         </td><td>1           </td><td>Rural       </td><td>Y           </td></tr>\n",
              "\t<tr><th scope=row>610</th><td>LP002978    </td><td>Female      </td><td>No          </td><td>0           </td><td>Graduate    </td><td>No          </td><td> 2900       </td><td>    0       </td><td> 71         </td><td>360         </td><td>1           </td><td>Rural       </td><td>Y           </td></tr>\n",
              "\t<tr><th scope=row>611</th><td>LP002979    </td><td>Male        </td><td>Yes         </td><td>3+          </td><td>Graduate    </td><td>No          </td><td> 4106       </td><td>    0       </td><td> 40         </td><td>180         </td><td>1           </td><td>Rural       </td><td>Y           </td></tr>\n",
              "\t<tr><th scope=row>612</th><td>LP002983    </td><td>Male        </td><td>Yes         </td><td>1           </td><td>Graduate    </td><td>No          </td><td> 8072       </td><td>  240       </td><td>253         </td><td>360         </td><td>1           </td><td>Urban       </td><td>Y           </td></tr>\n",
              "\t<tr><th scope=row>613</th><td>LP002984    </td><td>Male        </td><td>Yes         </td><td>2           </td><td>Graduate    </td><td>No          </td><td> 7583       </td><td>    0       </td><td>187         </td><td>360         </td><td>1           </td><td>Urban       </td><td>Y           </td></tr>\n",
              "\t<tr><th scope=row>614</th><td>LP002990    </td><td>Female      </td><td>No          </td><td>0           </td><td>Graduate    </td><td>Yes         </td><td> 4583       </td><td>    0       </td><td>133         </td><td>360         </td><td>0           </td><td>Semiurban   </td><td>N           </td></tr>\n",
              "</tbody>\n",
              "</table>\n"
            ],
            "text/latex": [
              "\\begin{tabular}{r|lllllllllllll}\n",
              "  & Loan\\_ID & Gender & Married & Dependents & Education & Self\\_Employed & ApplicantIncome & CoapplicantIncome & LoanAmount & Loan\\_Amount\\_Term & Credit\\_History & Property\\_Area & Loan\\_Status\\\\\n",
              "\\hline\n",
              "\t2 & LP001003     & Male         & Yes          & 1            & Graduate     & No           &  4583        &  1508        & 128          & 360          & 1            & Rural        & N           \\\\\n",
              "\t3 & LP001005     & Male         & Yes          & 0            & Graduate     & Yes          &  3000        &     0        &  66          & 360          & 1            & Urban        & Y           \\\\\n",
              "\t4 & LP001006     & Male         & Yes          & 0            & Not Graduate & No           &  2583        &  2358        & 120          & 360          & 1            & Urban        & Y           \\\\\n",
              "\t5 & LP001008     & Male         & No           & 0            & Graduate     & No           &  6000        &     0        & 141          & 360          & 1            & Urban        & Y           \\\\\n",
              "\t6 & LP001011     & Male         & Yes          & 2            & Graduate     & Yes          &  5417        &  4196        & 267          & 360          & 1            & Urban        & Y           \\\\\n",
              "\t7 & LP001013     & Male         & Yes          & 0            & Not Graduate & No           &  2333        &  1516        &  95          & 360          & 1            & Urban        & Y           \\\\\n",
              "\t8 & LP001014     & Male         & Yes          & 3+           & Graduate     & No           &  3036        &  2504        & 158          & 360          & 0            & Semiurban    & N           \\\\\n",
              "\t9 & LP001018     & Male         & Yes          & 2            & Graduate     & No           &  4006        &  1526        & 168          & 360          & 1            & Urban        & Y           \\\\\n",
              "\t10 & LP001020     & Male         & Yes          & 1            & Graduate     & No           & 12841        & 10968        & 349          & 360          & 1            & Semiurban    & N           \\\\\n",
              "\t11 & LP001024     & Male         & Yes          & 2            & Graduate     & No           &  3200        &   700        &  70          & 360          & 1            & Urban        & Y           \\\\\n",
              "\t12 & LP001027     & Male         & Yes          & 2            & Graduate     &              &  2500        &  1840        & 109          & 360          & 1            & Urban        & Y           \\\\\n",
              "\t13 & LP001028     & Male         & Yes          & 2            & Graduate     & No           &  3073        &  8106        & 200          & 360          & 1            & Urban        & Y           \\\\\n",
              "\t14 & LP001029     & Male         & No           & 0            & Graduate     & No           &  1853        &  2840        & 114          & 360          & 1            & Rural        & N           \\\\\n",
              "\t15 & LP001030     & Male         & Yes          & 2            & Graduate     & No           &  1299        &  1086        &  17          & 120          & 1            & Urban        & Y           \\\\\n",
              "\t16 & LP001032     & Male         & No           & 0            & Graduate     & No           &  4950        &     0        & 125          & 360          & 1            & Urban        & Y           \\\\\n",
              "\t18 & LP001036     & Female       & No           & 0            & Graduate     & No           &  3510        &     0        &  76          & 360          & 0            & Urban        & N           \\\\\n",
              "\t19 & LP001038     & Male         & Yes          & 0            & Not Graduate & No           &  4887        &     0        & 133          & 360          & 1            & Rural        & N           \\\\\n",
              "\t21 & LP001043     & Male         & Yes          & 0            & Not Graduate & No           &  7660        &     0        & 104          & 360          & 0            & Urban        & N           \\\\\n",
              "\t22 & LP001046     & Male         & Yes          & 1            & Graduate     & No           &  5955        &  5625        & 315          & 360          & 1            & Urban        & Y           \\\\\n",
              "\t23 & LP001047     & Male         & Yes          & 0            & Not Graduate & No           &  2600        &  1911        & 116          & 360          & 0            & Semiurban    & N           \\\\\n",
              "\t24 & LP001050     &              & Yes          & 2            & Not Graduate & No           &  3365        &  1917        & 112          & 360          & 0            & Rural        & N           \\\\\n",
              "\t26 & LP001066     & Male         & Yes          & 0            & Graduate     & Yes          &  9560        &     0        & 191          & 360          & 1            & Semiurban    & Y           \\\\\n",
              "\t27 & LP001068     & Male         & Yes          & 0            & Graduate     & No           &  2799        &  2253        & 122          & 360          & 1            & Semiurban    & Y           \\\\\n",
              "\t28 & LP001073     & Male         & Yes          & 2            & Not Graduate & No           &  4226        &  1040        & 110          & 360          & 1            & Urban        & Y           \\\\\n",
              "\t29 & LP001086     & Male         & No           & 0            & Not Graduate & No           &  1442        &     0        &  35          & 360          & 1            & Urban        & N           \\\\\n",
              "\t30 & LP001087     & Female       & No           & 2            & Graduate     &              &  3750        &  2083        & 120          & 360          & 1            & Semiurban    & Y           \\\\\n",
              "\t32 & LP001095     & Male         & No           & 0            & Graduate     & No           &  3167        &     0        &  74          & 360          & 1            & Urban        & N           \\\\\n",
              "\t33 & LP001097     & Male         & No           & 1            & Graduate     & Yes          &  4692        &     0        & 106          & 360          & 1            & Rural        & N           \\\\\n",
              "\t34 & LP001098     & Male         & Yes          & 0            & Graduate     & No           &  3500        &  1667        & 114          & 360          & 1            & Semiurban    & Y           \\\\\n",
              "\t35 & LP001100     & Male         & No           & 3+           & Graduate     & No           & 12500        &  3000        & 320          & 360          & 1            & Rural        & N           \\\\\n",
              "\t... & ... & ... & ... & ... & ... & ... & ... & ... & ... & ... & ... & ... & ...\\\\\n",
              "\t582 & LP002893     & Male         & No           & 0            & Graduate     & No           &  1836        & 33837        &  90          & 360          & 1            & Urban        & N           \\\\\n",
              "\t583 & LP002894     & Female       & Yes          & 0            & Graduate     & No           &  3166        &     0        &  36          & 360          & 1            & Semiurban    & Y           \\\\\n",
              "\t585 & LP002911     & Male         & Yes          & 1            & Graduate     & No           &  2787        &  1917        & 146          & 360          & 0            & Rural        & N           \\\\\n",
              "\t586 & LP002912     & Male         & Yes          & 1            & Graduate     & No           &  4283        &  3000        & 172          &  84          & 1            & Rural        & N           \\\\\n",
              "\t587 & LP002916     & Male         & Yes          & 0            & Graduate     & No           &  2297        &  1522        & 104          & 360          & 1            & Urban        & Y           \\\\\n",
              "\t588 & LP002917     & Female       & No           & 0            & Not Graduate & No           &  2165        &     0        &  70          & 360          & 1            & Semiurban    & Y           \\\\\n",
              "\t589 & LP002925     &              & No           & 0            & Graduate     & No           &  4750        &     0        &  94          & 360          & 1            & Semiurban    & Y           \\\\\n",
              "\t590 & LP002926     & Male         & Yes          & 2            & Graduate     & Yes          &  2726        &     0        & 106          & 360          & 0            & Semiurban    & N           \\\\\n",
              "\t591 & LP002928     & Male         & Yes          & 0            & Graduate     & No           &  3000        &  3416        &  56          & 180          & 1            & Semiurban    & Y           \\\\\n",
              "\t592 & LP002931     & Male         & Yes          & 2            & Graduate     & Yes          &  6000        &     0        & 205          & 240          & 1            & Semiurban    & N           \\\\\n",
              "\t593 & LP002933     &              & No           & 3+           & Graduate     & Yes          &  9357        &     0        & 292          & 360          & 1            & Semiurban    & Y           \\\\\n",
              "\t594 & LP002936     & Male         & Yes          & 0            & Graduate     & No           &  3859        &  3300        & 142          & 180          & 1            & Rural        & Y           \\\\\n",
              "\t595 & LP002938     & Male         & Yes          & 0            & Graduate     & Yes          & 16120        &     0        & 260          & 360          & 1            & Urban        & Y           \\\\\n",
              "\t596 & LP002940     & Male         & No           & 0            & Not Graduate & No           &  3833        &     0        & 110          & 360          & 1            & Rural        & Y           \\\\\n",
              "\t597 & LP002941     & Male         & Yes          & 2            & Not Graduate & Yes          &  6383        &  1000        & 187          & 360          & 1            & Rural        & N           \\\\\n",
              "\t598 & LP002943     & Male         & No           &              & Graduate     & No           &  2987        &     0        &  88          & 360          & 0            & Semiurban    & N           \\\\\n",
              "\t599 & LP002945     & Male         & Yes          & 0            & Graduate     & Yes          &  9963        &     0        & 180          & 360          & 1            & Rural        & Y           \\\\\n",
              "\t600 & LP002948     & Male         & Yes          & 2            & Graduate     & No           &  5780        &     0        & 192          & 360          & 1            & Urban        & Y           \\\\\n",
              "\t602 & LP002950     & Male         & Yes          & 0            & Not Graduate &              &  2894        &  2792        & 155          & 360          & 1            & Rural        & Y           \\\\\n",
              "\t603 & LP002953     & Male         & Yes          & 3+           & Graduate     & No           &  5703        &     0        & 128          & 360          & 1            & Urban        & Y           \\\\\n",
              "\t604 & LP002958     & Male         & No           & 0            & Graduate     & No           &  3676        &  4301        & 172          & 360          & 1            & Rural        & Y           \\\\\n",
              "\t605 & LP002959     & Female       & Yes          & 1            & Graduate     & No           & 12000        &     0        & 496          & 360          & 1            & Semiurban    & Y           \\\\\n",
              "\t607 & LP002961     & Male         & Yes          & 1            & Graduate     & No           &  3400        &  2500        & 173          & 360          & 1            & Semiurban    & Y           \\\\\n",
              "\t608 & LP002964     & Male         & Yes          & 2            & Not Graduate & No           &  3987        &  1411        & 157          & 360          & 1            & Rural        & Y           \\\\\n",
              "\t609 & LP002974     & Male         & Yes          & 0            & Graduate     & No           &  3232        &  1950        & 108          & 360          & 1            & Rural        & Y           \\\\\n",
              "\t610 & LP002978     & Female       & No           & 0            & Graduate     & No           &  2900        &     0        &  71          & 360          & 1            & Rural        & Y           \\\\\n",
              "\t611 & LP002979     & Male         & Yes          & 3+           & Graduate     & No           &  4106        &     0        &  40          & 180          & 1            & Rural        & Y           \\\\\n",
              "\t612 & LP002983     & Male         & Yes          & 1            & Graduate     & No           &  8072        &   240        & 253          & 360          & 1            & Urban        & Y           \\\\\n",
              "\t613 & LP002984     & Male         & Yes          & 2            & Graduate     & No           &  7583        &     0        & 187          & 360          & 1            & Urban        & Y           \\\\\n",
              "\t614 & LP002990     & Female       & No           & 0            & Graduate     & Yes          &  4583        &     0        & 133          & 360          & 0            & Semiurban    & N           \\\\\n",
              "\\end{tabular}\n"
            ],
            "text/markdown": [
              "\n",
              "| <!--/--> | Loan_ID | Gender | Married | Dependents | Education | Self_Employed | ApplicantIncome | CoapplicantIncome | LoanAmount | Loan_Amount_Term | Credit_History | Property_Area | Loan_Status |\n",
              "|---|---|---|---|---|---|---|---|---|---|---|---|---|---|\n",
              "| 2 | LP001003     | Male         | Yes          | 1            | Graduate     | No           |  4583        |  1508        | 128          | 360          | 1            | Rural        | N            |\n",
              "| 3 | LP001005     | Male         | Yes          | 0            | Graduate     | Yes          |  3000        |     0        |  66          | 360          | 1            | Urban        | Y            |\n",
              "| 4 | LP001006     | Male         | Yes          | 0            | Not Graduate | No           |  2583        |  2358        | 120          | 360          | 1            | Urban        | Y            |\n",
              "| 5 | LP001008     | Male         | No           | 0            | Graduate     | No           |  6000        |     0        | 141          | 360          | 1            | Urban        | Y            |\n",
              "| 6 | LP001011     | Male         | Yes          | 2            | Graduate     | Yes          |  5417        |  4196        | 267          | 360          | 1            | Urban        | Y            |\n",
              "| 7 | LP001013     | Male         | Yes          | 0            | Not Graduate | No           |  2333        |  1516        |  95          | 360          | 1            | Urban        | Y            |\n",
              "| 8 | LP001014     | Male         | Yes          | 3+           | Graduate     | No           |  3036        |  2504        | 158          | 360          | 0            | Semiurban    | N            |\n",
              "| 9 | LP001018     | Male         | Yes          | 2            | Graduate     | No           |  4006        |  1526        | 168          | 360          | 1            | Urban        | Y            |\n",
              "| 10 | LP001020     | Male         | Yes          | 1            | Graduate     | No           | 12841        | 10968        | 349          | 360          | 1            | Semiurban    | N            |\n",
              "| 11 | LP001024     | Male         | Yes          | 2            | Graduate     | No           |  3200        |   700        |  70          | 360          | 1            | Urban        | Y            |\n",
              "| 12 | LP001027     | Male         | Yes          | 2            | Graduate     |              |  2500        |  1840        | 109          | 360          | 1            | Urban        | Y            |\n",
              "| 13 | LP001028     | Male         | Yes          | 2            | Graduate     | No           |  3073        |  8106        | 200          | 360          | 1            | Urban        | Y            |\n",
              "| 14 | LP001029     | Male         | No           | 0            | Graduate     | No           |  1853        |  2840        | 114          | 360          | 1            | Rural        | N            |\n",
              "| 15 | LP001030     | Male         | Yes          | 2            | Graduate     | No           |  1299        |  1086        |  17          | 120          | 1            | Urban        | Y            |\n",
              "| 16 | LP001032     | Male         | No           | 0            | Graduate     | No           |  4950        |     0        | 125          | 360          | 1            | Urban        | Y            |\n",
              "| 18 | LP001036     | Female       | No           | 0            | Graduate     | No           |  3510        |     0        |  76          | 360          | 0            | Urban        | N            |\n",
              "| 19 | LP001038     | Male         | Yes          | 0            | Not Graduate | No           |  4887        |     0        | 133          | 360          | 1            | Rural        | N            |\n",
              "| 21 | LP001043     | Male         | Yes          | 0            | Not Graduate | No           |  7660        |     0        | 104          | 360          | 0            | Urban        | N            |\n",
              "| 22 | LP001046     | Male         | Yes          | 1            | Graduate     | No           |  5955        |  5625        | 315          | 360          | 1            | Urban        | Y            |\n",
              "| 23 | LP001047     | Male         | Yes          | 0            | Not Graduate | No           |  2600        |  1911        | 116          | 360          | 0            | Semiurban    | N            |\n",
              "| 24 | LP001050     |              | Yes          | 2            | Not Graduate | No           |  3365        |  1917        | 112          | 360          | 0            | Rural        | N            |\n",
              "| 26 | LP001066     | Male         | Yes          | 0            | Graduate     | Yes          |  9560        |     0        | 191          | 360          | 1            | Semiurban    | Y            |\n",
              "| 27 | LP001068     | Male         | Yes          | 0            | Graduate     | No           |  2799        |  2253        | 122          | 360          | 1            | Semiurban    | Y            |\n",
              "| 28 | LP001073     | Male         | Yes          | 2            | Not Graduate | No           |  4226        |  1040        | 110          | 360          | 1            | Urban        | Y            |\n",
              "| 29 | LP001086     | Male         | No           | 0            | Not Graduate | No           |  1442        |     0        |  35          | 360          | 1            | Urban        | N            |\n",
              "| 30 | LP001087     | Female       | No           | 2            | Graduate     |              |  3750        |  2083        | 120          | 360          | 1            | Semiurban    | Y            |\n",
              "| 32 | LP001095     | Male         | No           | 0            | Graduate     | No           |  3167        |     0        |  74          | 360          | 1            | Urban        | N            |\n",
              "| 33 | LP001097     | Male         | No           | 1            | Graduate     | Yes          |  4692        |     0        | 106          | 360          | 1            | Rural        | N            |\n",
              "| 34 | LP001098     | Male         | Yes          | 0            | Graduate     | No           |  3500        |  1667        | 114          | 360          | 1            | Semiurban    | Y            |\n",
              "| 35 | LP001100     | Male         | No           | 3+           | Graduate     | No           | 12500        |  3000        | 320          | 360          | 1            | Rural        | N            |\n",
              "| ... | ... | ... | ... | ... | ... | ... | ... | ... | ... | ... | ... | ... | ... |\n",
              "| 582 | LP002893     | Male         | No           | 0            | Graduate     | No           |  1836        | 33837        |  90          | 360          | 1            | Urban        | N            |\n",
              "| 583 | LP002894     | Female       | Yes          | 0            | Graduate     | No           |  3166        |     0        |  36          | 360          | 1            | Semiurban    | Y            |\n",
              "| 585 | LP002911     | Male         | Yes          | 1            | Graduate     | No           |  2787        |  1917        | 146          | 360          | 0            | Rural        | N            |\n",
              "| 586 | LP002912     | Male         | Yes          | 1            | Graduate     | No           |  4283        |  3000        | 172          |  84          | 1            | Rural        | N            |\n",
              "| 587 | LP002916     | Male         | Yes          | 0            | Graduate     | No           |  2297        |  1522        | 104          | 360          | 1            | Urban        | Y            |\n",
              "| 588 | LP002917     | Female       | No           | 0            | Not Graduate | No           |  2165        |     0        |  70          | 360          | 1            | Semiurban    | Y            |\n",
              "| 589 | LP002925     |              | No           | 0            | Graduate     | No           |  4750        |     0        |  94          | 360          | 1            | Semiurban    | Y            |\n",
              "| 590 | LP002926     | Male         | Yes          | 2            | Graduate     | Yes          |  2726        |     0        | 106          | 360          | 0            | Semiurban    | N            |\n",
              "| 591 | LP002928     | Male         | Yes          | 0            | Graduate     | No           |  3000        |  3416        |  56          | 180          | 1            | Semiurban    | Y            |\n",
              "| 592 | LP002931     | Male         | Yes          | 2            | Graduate     | Yes          |  6000        |     0        | 205          | 240          | 1            | Semiurban    | N            |\n",
              "| 593 | LP002933     |              | No           | 3+           | Graduate     | Yes          |  9357        |     0        | 292          | 360          | 1            | Semiurban    | Y            |\n",
              "| 594 | LP002936     | Male         | Yes          | 0            | Graduate     | No           |  3859        |  3300        | 142          | 180          | 1            | Rural        | Y            |\n",
              "| 595 | LP002938     | Male         | Yes          | 0            | Graduate     | Yes          | 16120        |     0        | 260          | 360          | 1            | Urban        | Y            |\n",
              "| 596 | LP002940     | Male         | No           | 0            | Not Graduate | No           |  3833        |     0        | 110          | 360          | 1            | Rural        | Y            |\n",
              "| 597 | LP002941     | Male         | Yes          | 2            | Not Graduate | Yes          |  6383        |  1000        | 187          | 360          | 1            | Rural        | N            |\n",
              "| 598 | LP002943     | Male         | No           |              | Graduate     | No           |  2987        |     0        |  88          | 360          | 0            | Semiurban    | N            |\n",
              "| 599 | LP002945     | Male         | Yes          | 0            | Graduate     | Yes          |  9963        |     0        | 180          | 360          | 1            | Rural        | Y            |\n",
              "| 600 | LP002948     | Male         | Yes          | 2            | Graduate     | No           |  5780        |     0        | 192          | 360          | 1            | Urban        | Y            |\n",
              "| 602 | LP002950     | Male         | Yes          | 0            | Not Graduate |              |  2894        |  2792        | 155          | 360          | 1            | Rural        | Y            |\n",
              "| 603 | LP002953     | Male         | Yes          | 3+           | Graduate     | No           |  5703        |     0        | 128          | 360          | 1            | Urban        | Y            |\n",
              "| 604 | LP002958     | Male         | No           | 0            | Graduate     | No           |  3676        |  4301        | 172          | 360          | 1            | Rural        | Y            |\n",
              "| 605 | LP002959     | Female       | Yes          | 1            | Graduate     | No           | 12000        |     0        | 496          | 360          | 1            | Semiurban    | Y            |\n",
              "| 607 | LP002961     | Male         | Yes          | 1            | Graduate     | No           |  3400        |  2500        | 173          | 360          | 1            | Semiurban    | Y            |\n",
              "| 608 | LP002964     | Male         | Yes          | 2            | Not Graduate | No           |  3987        |  1411        | 157          | 360          | 1            | Rural        | Y            |\n",
              "| 609 | LP002974     | Male         | Yes          | 0            | Graduate     | No           |  3232        |  1950        | 108          | 360          | 1            | Rural        | Y            |\n",
              "| 610 | LP002978     | Female       | No           | 0            | Graduate     | No           |  2900        |     0        |  71          | 360          | 1            | Rural        | Y            |\n",
              "| 611 | LP002979     | Male         | Yes          | 3+           | Graduate     | No           |  4106        |     0        |  40          | 180          | 1            | Rural        | Y            |\n",
              "| 612 | LP002983     | Male         | Yes          | 1            | Graduate     | No           |  8072        |   240        | 253          | 360          | 1            | Urban        | Y            |\n",
              "| 613 | LP002984     | Male         | Yes          | 2            | Graduate     | No           |  7583        |     0        | 187          | 360          | 1            | Urban        | Y            |\n",
              "| 614 | LP002990     | Female       | No           | 0            | Graduate     | Yes          |  4583        |     0        | 133          | 360          | 0            | Semiurban    | N            |\n",
              "\n"
            ],
            "text/plain": [
              "    Loan_ID  Gender Married Dependents Education    Self_Employed\n",
              "2   LP001003 Male   Yes     1          Graduate     No           \n",
              "3   LP001005 Male   Yes     0          Graduate     Yes          \n",
              "4   LP001006 Male   Yes     0          Not Graduate No           \n",
              "5   LP001008 Male   No      0          Graduate     No           \n",
              "6   LP001011 Male   Yes     2          Graduate     Yes          \n",
              "7   LP001013 Male   Yes     0          Not Graduate No           \n",
              "8   LP001014 Male   Yes     3+         Graduate     No           \n",
              "9   LP001018 Male   Yes     2          Graduate     No           \n",
              "10  LP001020 Male   Yes     1          Graduate     No           \n",
              "11  LP001024 Male   Yes     2          Graduate     No           \n",
              "12  LP001027 Male   Yes     2          Graduate                  \n",
              "13  LP001028 Male   Yes     2          Graduate     No           \n",
              "14  LP001029 Male   No      0          Graduate     No           \n",
              "15  LP001030 Male   Yes     2          Graduate     No           \n",
              "16  LP001032 Male   No      0          Graduate     No           \n",
              "18  LP001036 Female No      0          Graduate     No           \n",
              "19  LP001038 Male   Yes     0          Not Graduate No           \n",
              "21  LP001043 Male   Yes     0          Not Graduate No           \n",
              "22  LP001046 Male   Yes     1          Graduate     No           \n",
              "23  LP001047 Male   Yes     0          Not Graduate No           \n",
              "24  LP001050        Yes     2          Not Graduate No           \n",
              "26  LP001066 Male   Yes     0          Graduate     Yes          \n",
              "27  LP001068 Male   Yes     0          Graduate     No           \n",
              "28  LP001073 Male   Yes     2          Not Graduate No           \n",
              "29  LP001086 Male   No      0          Not Graduate No           \n",
              "30  LP001087 Female No      2          Graduate                  \n",
              "32  LP001095 Male   No      0          Graduate     No           \n",
              "33  LP001097 Male   No      1          Graduate     Yes          \n",
              "34  LP001098 Male   Yes     0          Graduate     No           \n",
              "35  LP001100 Male   No      3+         Graduate     No           \n",
              "... ...      ...    ...     ...        ...          ...          \n",
              "582 LP002893 Male   No      0          Graduate     No           \n",
              "583 LP002894 Female Yes     0          Graduate     No           \n",
              "585 LP002911 Male   Yes     1          Graduate     No           \n",
              "586 LP002912 Male   Yes     1          Graduate     No           \n",
              "587 LP002916 Male   Yes     0          Graduate     No           \n",
              "588 LP002917 Female No      0          Not Graduate No           \n",
              "589 LP002925        No      0          Graduate     No           \n",
              "590 LP002926 Male   Yes     2          Graduate     Yes          \n",
              "591 LP002928 Male   Yes     0          Graduate     No           \n",
              "592 LP002931 Male   Yes     2          Graduate     Yes          \n",
              "593 LP002933        No      3+         Graduate     Yes          \n",
              "594 LP002936 Male   Yes     0          Graduate     No           \n",
              "595 LP002938 Male   Yes     0          Graduate     Yes          \n",
              "596 LP002940 Male   No      0          Not Graduate No           \n",
              "597 LP002941 Male   Yes     2          Not Graduate Yes          \n",
              "598 LP002943 Male   No                 Graduate     No           \n",
              "599 LP002945 Male   Yes     0          Graduate     Yes          \n",
              "600 LP002948 Male   Yes     2          Graduate     No           \n",
              "602 LP002950 Male   Yes     0          Not Graduate              \n",
              "603 LP002953 Male   Yes     3+         Graduate     No           \n",
              "604 LP002958 Male   No      0          Graduate     No           \n",
              "605 LP002959 Female Yes     1          Graduate     No           \n",
              "607 LP002961 Male   Yes     1          Graduate     No           \n",
              "608 LP002964 Male   Yes     2          Not Graduate No           \n",
              "609 LP002974 Male   Yes     0          Graduate     No           \n",
              "610 LP002978 Female No      0          Graduate     No           \n",
              "611 LP002979 Male   Yes     3+         Graduate     No           \n",
              "612 LP002983 Male   Yes     1          Graduate     No           \n",
              "613 LP002984 Male   Yes     2          Graduate     No           \n",
              "614 LP002990 Female No      0          Graduate     Yes          \n",
              "    ApplicantIncome CoapplicantIncome LoanAmount Loan_Amount_Term\n",
              "2    4583            1508             128        360             \n",
              "3    3000               0              66        360             \n",
              "4    2583            2358             120        360             \n",
              "5    6000               0             141        360             \n",
              "6    5417            4196             267        360             \n",
              "7    2333            1516              95        360             \n",
              "8    3036            2504             158        360             \n",
              "9    4006            1526             168        360             \n",
              "10  12841           10968             349        360             \n",
              "11   3200             700              70        360             \n",
              "12   2500            1840             109        360             \n",
              "13   3073            8106             200        360             \n",
              "14   1853            2840             114        360             \n",
              "15   1299            1086              17        120             \n",
              "16   4950               0             125        360             \n",
              "18   3510               0              76        360             \n",
              "19   4887               0             133        360             \n",
              "21   7660               0             104        360             \n",
              "22   5955            5625             315        360             \n",
              "23   2600            1911             116        360             \n",
              "24   3365            1917             112        360             \n",
              "26   9560               0             191        360             \n",
              "27   2799            2253             122        360             \n",
              "28   4226            1040             110        360             \n",
              "29   1442               0              35        360             \n",
              "30   3750            2083             120        360             \n",
              "32   3167               0              74        360             \n",
              "33   4692               0             106        360             \n",
              "34   3500            1667             114        360             \n",
              "35  12500            3000             320        360             \n",
              "... ...             ...               ...        ...             \n",
              "582  1836           33837              90        360             \n",
              "583  3166               0              36        360             \n",
              "585  2787            1917             146        360             \n",
              "586  4283            3000             172         84             \n",
              "587  2297            1522             104        360             \n",
              "588  2165               0              70        360             \n",
              "589  4750               0              94        360             \n",
              "590  2726               0             106        360             \n",
              "591  3000            3416              56        180             \n",
              "592  6000               0             205        240             \n",
              "593  9357               0             292        360             \n",
              "594  3859            3300             142        180             \n",
              "595 16120               0             260        360             \n",
              "596  3833               0             110        360             \n",
              "597  6383            1000             187        360             \n",
              "598  2987               0              88        360             \n",
              "599  9963               0             180        360             \n",
              "600  5780               0             192        360             \n",
              "602  2894            2792             155        360             \n",
              "603  5703               0             128        360             \n",
              "604  3676            4301             172        360             \n",
              "605 12000               0             496        360             \n",
              "607  3400            2500             173        360             \n",
              "608  3987            1411             157        360             \n",
              "609  3232            1950             108        360             \n",
              "610  2900               0              71        360             \n",
              "611  4106               0              40        180             \n",
              "612  8072             240             253        360             \n",
              "613  7583               0             187        360             \n",
              "614  4583               0             133        360             \n",
              "    Credit_History Property_Area Loan_Status\n",
              "2   1              Rural         N          \n",
              "3   1              Urban         Y          \n",
              "4   1              Urban         Y          \n",
              "5   1              Urban         Y          \n",
              "6   1              Urban         Y          \n",
              "7   1              Urban         Y          \n",
              "8   0              Semiurban     N          \n",
              "9   1              Urban         Y          \n",
              "10  1              Semiurban     N          \n",
              "11  1              Urban         Y          \n",
              "12  1              Urban         Y          \n",
              "13  1              Urban         Y          \n",
              "14  1              Rural         N          \n",
              "15  1              Urban         Y          \n",
              "16  1              Urban         Y          \n",
              "18  0              Urban         N          \n",
              "19  1              Rural         N          \n",
              "21  0              Urban         N          \n",
              "22  1              Urban         Y          \n",
              "23  0              Semiurban     N          \n",
              "24  0              Rural         N          \n",
              "26  1              Semiurban     Y          \n",
              "27  1              Semiurban     Y          \n",
              "28  1              Urban         Y          \n",
              "29  1              Urban         N          \n",
              "30  1              Semiurban     Y          \n",
              "32  1              Urban         N          \n",
              "33  1              Rural         N          \n",
              "34  1              Semiurban     Y          \n",
              "35  1              Rural         N          \n",
              "... ...            ...           ...        \n",
              "582 1              Urban         N          \n",
              "583 1              Semiurban     Y          \n",
              "585 0              Rural         N          \n",
              "586 1              Rural         N          \n",
              "587 1              Urban         Y          \n",
              "588 1              Semiurban     Y          \n",
              "589 1              Semiurban     Y          \n",
              "590 0              Semiurban     N          \n",
              "591 1              Semiurban     Y          \n",
              "592 1              Semiurban     N          \n",
              "593 1              Semiurban     Y          \n",
              "594 1              Rural         Y          \n",
              "595 1              Urban         Y          \n",
              "596 1              Rural         Y          \n",
              "597 1              Rural         N          \n",
              "598 0              Semiurban     N          \n",
              "599 1              Rural         Y          \n",
              "600 1              Urban         Y          \n",
              "602 1              Rural         Y          \n",
              "603 1              Urban         Y          \n",
              "604 1              Rural         Y          \n",
              "605 1              Semiurban     Y          \n",
              "607 1              Semiurban     Y          \n",
              "608 1              Rural         Y          \n",
              "609 1              Rural         Y          \n",
              "610 1              Rural         Y          \n",
              "611 1              Rural         Y          \n",
              "612 1              Urban         Y          \n",
              "613 1              Urban         Y          \n",
              "614 0              Semiurban     N          "
            ]
          },
          "metadata": {},
          "output_type": "display_data"
        }
      ],
      "source": [
        "# 1-a If any, print the total number of null values for each column in the dataset. Explain how you handle the null values (Hint: Null values must be filled or dropped from the dataset accordingly. How you handle the null values is upto you)\n",
        "num_na <- function(x) {sum(is.na(x))}\n",
        "sapply(loan_data_df, num_na)\n",
        "\n",
        "loan_data_df_nona = na.omit(loan_data_df)\n",
        "# The number of null values is less than 5% of dataset, hence with 5% rule we drop the null values.\n",
        "loan_data_df_nona"
      ]
    },
    {
      "cell_type": "code",
      "execution_count": null,
      "id": "78ab546f",
      "metadata": {
        "id": "78ab546f",
        "outputId": "f4507f0a-e831-47c6-9e6c-6d54aabd1298"
      },
      "outputs": [
        {
          "name": "stdout",
          "output_type": "stream",
          "text": [
            "'data.frame':\t614 obs. of  13 variables:\n",
            " $ Loan_ID          : Factor w/ 614 levels \"LP001002\",\"LP001003\",..: 1 2 3 4 5 6 7 8 9 10 ...\n",
            " $ Gender           : Factor w/ 3 levels \"\",\"Female\",\"Male\": 3 3 3 3 3 3 3 3 3 3 ...\n",
            " $ Married          : Factor w/ 3 levels \"\",\"No\",\"Yes\": 2 3 3 3 2 3 3 3 3 3 ...\n",
            " $ Dependents       : Factor w/ 5 levels \"\",\"0\",\"1\",\"2\",..: 2 3 2 2 2 4 2 5 4 3 ...\n",
            " $ Education        : Factor w/ 2 levels \"Graduate\",\"Not Graduate\": 1 1 1 2 1 1 2 1 1 1 ...\n",
            " $ Self_Employed    : Factor w/ 3 levels \"\",\"No\",\"Yes\": 2 2 3 2 2 3 2 2 2 2 ...\n",
            " $ ApplicantIncome  : int  5849 4583 3000 2583 6000 5417 2333 3036 4006 12841 ...\n",
            " $ CoapplicantIncome: num  0 1508 0 2358 0 ...\n",
            " $ LoanAmount       : int  NA 128 66 120 141 267 95 158 168 349 ...\n",
            " $ Loan_Amount_Term : int  360 360 360 360 360 360 360 360 360 360 ...\n",
            " $ Credit_History   : int  1 1 1 1 1 1 1 0 1 1 ...\n",
            " $ Property_Area    : Factor w/ 3 levels \"Rural\",\"Semiurban\",..: 3 1 3 3 3 3 3 2 3 2 ...\n",
            " $ Loan_Status      : Factor w/ 2 levels \"N\",\"Y\": 2 1 2 2 2 2 2 1 2 1 ...\n"
          ]
        },
        {
          "data": {
            "text/plain": [
              "     Loan_ID       Gender    Married   Dependents        Education  \n",
              " LP001002:  1         : 13      :  3     : 15     Graduate    :480  \n",
              " LP001003:  1   Female:112   No :213   0 :345     Not Graduate:134  \n",
              " LP001005:  1   Male  :489   Yes:398   1 :102                       \n",
              " LP001006:  1                          2 :101                       \n",
              " LP001008:  1                          3+: 51                       \n",
              " LP001011:  1                                                       \n",
              " (Other) :608                                                       \n",
              " Self_Employed ApplicantIncome CoapplicantIncome   LoanAmount   \n",
              "    : 32       Min.   :  150   Min.   :    0     Min.   :  9.0  \n",
              " No :500       1st Qu.: 2878   1st Qu.:    0     1st Qu.:100.0  \n",
              " Yes: 82       Median : 3812   Median : 1188     Median :128.0  \n",
              "               Mean   : 5403   Mean   : 1621     Mean   :146.4  \n",
              "               3rd Qu.: 5795   3rd Qu.: 2297     3rd Qu.:168.0  \n",
              "               Max.   :81000   Max.   :41667     Max.   :700.0  \n",
              "                                                 NA's   :22     \n",
              " Loan_Amount_Term Credit_History     Property_Area Loan_Status\n",
              " Min.   : 12      Min.   :0.0000   Rural    :179   N:192      \n",
              " 1st Qu.:360      1st Qu.:1.0000   Semiurban:233   Y:422      \n",
              " Median :360      Median :1.0000   Urban    :202              \n",
              " Mean   :342      Mean   :0.8422                              \n",
              " 3rd Qu.:360      3rd Qu.:1.0000                              \n",
              " Max.   :480      Max.   :1.0000                              \n",
              " NA's   :14       NA's   :50                                  "
            ]
          },
          "metadata": {},
          "output_type": "display_data"
        },
        {
          "data": {
            "text/html": [
              "<ol class=list-inline>\n",
              "\t<li>'Loan_ID'</li>\n",
              "\t<li>'Gender'</li>\n",
              "\t<li>'Married'</li>\n",
              "\t<li>'Dependents'</li>\n",
              "\t<li>'Education'</li>\n",
              "\t<li>'Self_Employed'</li>\n",
              "\t<li>'ApplicantIncome'</li>\n",
              "\t<li>'CoapplicantIncome'</li>\n",
              "\t<li>'LoanAmount'</li>\n",
              "\t<li>'Loan_Amount_Term'</li>\n",
              "\t<li>'Credit_History'</li>\n",
              "\t<li>'Property_Area'</li>\n",
              "\t<li>'Loan_Status'</li>\n",
              "</ol>\n"
            ],
            "text/latex": [
              "\\begin{enumerate*}\n",
              "\\item 'Loan\\_ID'\n",
              "\\item 'Gender'\n",
              "\\item 'Married'\n",
              "\\item 'Dependents'\n",
              "\\item 'Education'\n",
              "\\item 'Self\\_Employed'\n",
              "\\item 'ApplicantIncome'\n",
              "\\item 'CoapplicantIncome'\n",
              "\\item 'LoanAmount'\n",
              "\\item 'Loan\\_Amount\\_Term'\n",
              "\\item 'Credit\\_History'\n",
              "\\item 'Property\\_Area'\n",
              "\\item 'Loan\\_Status'\n",
              "\\end{enumerate*}\n"
            ],
            "text/markdown": [
              "1. 'Loan_ID'\n",
              "2. 'Gender'\n",
              "3. 'Married'\n",
              "4. 'Dependents'\n",
              "5. 'Education'\n",
              "6. 'Self_Employed'\n",
              "7. 'ApplicantIncome'\n",
              "8. 'CoapplicantIncome'\n",
              "9. 'LoanAmount'\n",
              "10. 'Loan_Amount_Term'\n",
              "11. 'Credit_History'\n",
              "12. 'Property_Area'\n",
              "13. 'Loan_Status'\n",
              "\n",
              "\n"
            ],
            "text/plain": [
              " [1] \"Loan_ID\"           \"Gender\"            \"Married\"          \n",
              " [4] \"Dependents\"        \"Education\"         \"Self_Employed\"    \n",
              " [7] \"ApplicantIncome\"   \"CoapplicantIncome\" \"LoanAmount\"       \n",
              "[10] \"Loan_Amount_Term\"  \"Credit_History\"    \"Property_Area\"    \n",
              "[13] \"Loan_Status\"      "
            ]
          },
          "metadata": {},
          "output_type": "display_data"
        }
      ],
      "source": [
        "# 1-b Print the details of dataframe\n",
        "str(loan_data_df)\n",
        "summary(loan_data_df)\n",
        "colnames(loan_data_df)"
      ]
    },
    {
      "cell_type": "code",
      "execution_count": null,
      "id": "cea2969f",
      "metadata": {
        "id": "cea2969f",
        "outputId": "a87505c1-3b46-45f0-9fc4-447e097fd44e"
      },
      "outputs": [
        {
          "name": "stdout",
          "output_type": "stream",
          "text": [
            "[1] \"Number of rows :\"\n",
            "[1] 614\n",
            "[1] \"Number of columns :\"\n",
            "[1] 13\n"
          ]
        },
        {
          "data": {
            "text/html": [
              "<ol class=list-inline>\n",
              "\t<li>614</li>\n",
              "\t<li>13</li>\n",
              "</ol>\n"
            ],
            "text/latex": [
              "\\begin{enumerate*}\n",
              "\\item 614\n",
              "\\item 13\n",
              "\\end{enumerate*}\n"
            ],
            "text/markdown": [
              "1. 614\n",
              "2. 13\n",
              "\n",
              "\n"
            ],
            "text/plain": [
              "[1] 614  13"
            ]
          },
          "metadata": {},
          "output_type": "display_data"
        }
      ],
      "source": [
        "# 1-c Find the number of rows and columns in dataset\n",
        "print(\"Number of rows :\")\n",
        "print(nrow(loan_data_df))\n",
        "print(\"Number of columns :\")\n",
        "print(ncol(loan_data_df))\n",
        "dim(loan_data_df)"
      ]
    },
    {
      "cell_type": "code",
      "execution_count": null,
      "id": "f95aa4d9",
      "metadata": {
        "id": "f95aa4d9",
        "outputId": "f0715380-df72-4f97-ad46-35b0916aef87"
      },
      "outputs": [
        {
          "data": {
            "text/plain": [
              "     Loan_ID       Gender    Married   Dependents        Education  \n",
              " LP001002:  1         : 13      :  3     : 15     Graduate    :480  \n",
              " LP001003:  1   Female:112   No :213   0 :345     Not Graduate:134  \n",
              " LP001005:  1   Male  :489   Yes:398   1 :102                       \n",
              " LP001006:  1                          2 :101                       \n",
              " LP001008:  1                          3+: 51                       \n",
              " LP001011:  1                                                       \n",
              " (Other) :608                                                       \n",
              " Self_Employed ApplicantIncome CoapplicantIncome   LoanAmount   \n",
              "    : 32       Min.   :  150   Min.   :    0     Min.   :  9.0  \n",
              " No :500       1st Qu.: 2878   1st Qu.:    0     1st Qu.:100.0  \n",
              " Yes: 82       Median : 3812   Median : 1188     Median :128.0  \n",
              "               Mean   : 5403   Mean   : 1621     Mean   :146.4  \n",
              "               3rd Qu.: 5795   3rd Qu.: 2297     3rd Qu.:168.0  \n",
              "               Max.   :81000   Max.   :41667     Max.   :700.0  \n",
              "                                                 NA's   :22     \n",
              " Loan_Amount_Term Credit_History     Property_Area Loan_Status\n",
              " Min.   : 12      Min.   :0.0000   Rural    :179   N:192      \n",
              " 1st Qu.:360      1st Qu.:1.0000   Semiurban:233   Y:422      \n",
              " Median :360      Median :1.0000   Urban    :202              \n",
              " Mean   :342      Mean   :0.8422                              \n",
              " 3rd Qu.:360      3rd Qu.:1.0000                              \n",
              " Max.   :480      Max.   :1.0000                              \n",
              " NA's   :14       NA's   :50                                  "
            ]
          },
          "metadata": {},
          "output_type": "display_data"
        }
      ],
      "source": [
        "# 1-d Print descriptive detail of a column in dataset\n",
        "summary(loan_data_df)"
      ]
    },
    {
      "cell_type": "code",
      "execution_count": null,
      "id": "2c1b0165",
      "metadata": {
        "id": "2c1b0165"
      },
      "outputs": [],
      "source": [
        "# Data Pre-processing for R"
      ]
    },
    {
      "cell_type": "markdown",
      "id": "7e386d61",
      "metadata": {
        "id": "7e386d61"
      },
      "source": [
        "# Task 2: Aggregation & Filtering & Rank (30 points)"
      ]
    },
    {
      "cell_type": "code",
      "execution_count": null,
      "id": "eb19feff",
      "metadata": {
        "id": "eb19feff",
        "outputId": "dffa8533-536d-45d8-b097-5c7c1ba376b2"
      },
      "outputs": [
        {
          "data": {
            "text/plain": [
              "              \n",
              "               Rural Semiurban Urban\n",
              "  Graduate       131       187   162\n",
              "  Not Graduate    48        46    40"
            ]
          },
          "metadata": {},
          "output_type": "display_data"
        },
        {
          "name": "stdout",
          "output_type": "stream",
          "text": [
            "[1] \"The number of graduates from rural area is :\"\n"
          ]
        },
        {
          "data": {
            "text/html": [
              "131"
            ],
            "text/latex": [
              "131"
            ],
            "text/markdown": [
              "131"
            ],
            "text/plain": [
              "[1] 131"
            ]
          },
          "metadata": {},
          "output_type": "display_data"
        }
      ],
      "source": [
        "# Task 2-a: Find out the number of graduates from rural area\n",
        "table(loan_data_df$Education,loan_data_df$Property_Area)\n",
        "print(\"The number of graduates from rural area is :\")\n",
        "sum(loan_data_df$Education==\"Graduate\" & loan_data_df$Property_Area==\"Rural\")"
      ]
    },
    {
      "cell_type": "code",
      "execution_count": null,
      "id": "4488bf58",
      "metadata": {
        "id": "4488bf58",
        "outputId": "daaeb748-0d22-4c49-8d17-98fbefaccad9"
      },
      "outputs": [
        {
          "data": {
            "text/html": [
              "113"
            ],
            "text/latex": [
              "113"
            ],
            "text/markdown": [
              "113"
            ],
            "text/plain": [
              "[1] 113"
            ]
          },
          "metadata": {},
          "output_type": "display_data"
        }
      ],
      "source": [
        "# Task 2-b: determine the overall number of men who did not graduate\n",
        "sum(loan_data_df$Education!=\"Graduate\" & loan_data_df$Gender==\"Male\")"
      ]
    },
    {
      "cell_type": "code",
      "execution_count": null,
      "id": "cb6ce750",
      "metadata": {
        "id": "cb6ce750",
        "outputId": "31873469-800b-4ebc-c4e3-b7eea8af226b"
      },
      "outputs": [
        {
          "data": {
            "text/html": [
              "<table>\n",
              "<thead><tr><th></th><th scope=col>Loan_ID</th><th scope=col>Gender</th><th scope=col>Married</th><th scope=col>Dependents</th><th scope=col>Education</th><th scope=col>Self_Employed</th><th scope=col>ApplicantIncome</th><th scope=col>CoapplicantIncome</th><th scope=col>LoanAmount</th><th scope=col>Loan_Amount_Term</th><th scope=col>Credit_History</th><th scope=col>Property_Area</th><th scope=col>Loan_Status</th></tr></thead>\n",
              "<tbody>\n",
              "\t<tr><th scope=row>410</th><td>LP002317 </td><td>Male     </td><td>Yes      </td><td>3+       </td><td>Graduate </td><td>No       </td><td>81000    </td><td>   0     </td><td>360      </td><td>360      </td><td>0        </td><td>Rural    </td><td>N        </td></tr>\n",
              "\t<tr><th scope=row>334</th><td>LP002101 </td><td>Male     </td><td>Yes      </td><td>0        </td><td>Graduate </td><td>         </td><td>63337    </td><td>   0     </td><td>490      </td><td>180      </td><td>1        </td><td>Urban    </td><td>Y        </td></tr>\n",
              "\t<tr><th scope=row>156</th><td>LP001536 </td><td>Male     </td><td>Yes      </td><td>3+       </td><td>Graduate </td><td>No       </td><td>39999    </td><td>   0     </td><td>600      </td><td>180      </td><td>0        </td><td>Semiurban</td><td>Y        </td></tr>\n",
              "\t<tr><th scope=row>186</th><td>LP001640 </td><td>Male     </td><td>Yes      </td><td>0        </td><td>Graduate </td><td>Yes      </td><td>39147    </td><td>4750     </td><td>120      </td><td>360      </td><td>1        </td><td>Semiurban</td><td>Y        </td></tr>\n",
              "\t<tr><th scope=row>444</th><td>LP002422 </td><td>Male     </td><td>No       </td><td>1        </td><td>Graduate </td><td>No       </td><td>37719    </td><td>   0     </td><td>152      </td><td>360      </td><td>1        </td><td>Semiurban</td><td>Y        </td></tr>\n",
              "</tbody>\n",
              "</table>\n"
            ],
            "text/latex": [
              "\\begin{tabular}{r|lllllllllllll}\n",
              "  & Loan\\_ID & Gender & Married & Dependents & Education & Self\\_Employed & ApplicantIncome & CoapplicantIncome & LoanAmount & Loan\\_Amount\\_Term & Credit\\_History & Property\\_Area & Loan\\_Status\\\\\n",
              "\\hline\n",
              "\t410 & LP002317  & Male      & Yes       & 3+        & Graduate  & No        & 81000     &    0      & 360       & 360       & 0         & Rural     & N        \\\\\n",
              "\t334 & LP002101  & Male      & Yes       & 0         & Graduate  &           & 63337     &    0      & 490       & 180       & 1         & Urban     & Y        \\\\\n",
              "\t156 & LP001536  & Male      & Yes       & 3+        & Graduate  & No        & 39999     &    0      & 600       & 180       & 0         & Semiurban & Y        \\\\\n",
              "\t186 & LP001640  & Male      & Yes       & 0         & Graduate  & Yes       & 39147     & 4750      & 120       & 360       & 1         & Semiurban & Y        \\\\\n",
              "\t444 & LP002422  & Male      & No        & 1         & Graduate  & No        & 37719     &    0      & 152       & 360       & 1         & Semiurban & Y        \\\\\n",
              "\\end{tabular}\n"
            ],
            "text/markdown": [
              "\n",
              "| <!--/--> | Loan_ID | Gender | Married | Dependents | Education | Self_Employed | ApplicantIncome | CoapplicantIncome | LoanAmount | Loan_Amount_Term | Credit_History | Property_Area | Loan_Status |\n",
              "|---|---|---|---|---|---|---|---|---|---|---|---|---|---|\n",
              "| 410 | LP002317  | Male      | Yes       | 3+        | Graduate  | No        | 81000     |    0      | 360       | 360       | 0         | Rural     | N         |\n",
              "| 334 | LP002101  | Male      | Yes       | 0         | Graduate  |           | 63337     |    0      | 490       | 180       | 1         | Urban     | Y         |\n",
              "| 156 | LP001536  | Male      | Yes       | 3+        | Graduate  | No        | 39999     |    0      | 600       | 180       | 0         | Semiurban | Y         |\n",
              "| 186 | LP001640  | Male      | Yes       | 0         | Graduate  | Yes       | 39147     | 4750      | 120       | 360       | 1         | Semiurban | Y         |\n",
              "| 444 | LP002422  | Male      | No        | 1         | Graduate  | No        | 37719     |    0      | 152       | 360       | 1         | Semiurban | Y         |\n",
              "\n"
            ],
            "text/plain": [
              "    Loan_ID  Gender Married Dependents Education Self_Employed ApplicantIncome\n",
              "410 LP002317 Male   Yes     3+         Graduate  No            81000          \n",
              "334 LP002101 Male   Yes     0          Graduate                63337          \n",
              "156 LP001536 Male   Yes     3+         Graduate  No            39999          \n",
              "186 LP001640 Male   Yes     0          Graduate  Yes           39147          \n",
              "444 LP002422 Male   No      1          Graduate  No            37719          \n",
              "    CoapplicantIncome LoanAmount Loan_Amount_Term Credit_History Property_Area\n",
              "410    0              360        360              0              Rural        \n",
              "334    0              490        180              1              Urban        \n",
              "156    0              600        180              0              Semiurban    \n",
              "186 4750              120        360              1              Semiurban    \n",
              "444    0              152        360              1              Semiurban    \n",
              "    Loan_Status\n",
              "410 N          \n",
              "334 Y          \n",
              "156 Y          \n",
              "186 Y          \n",
              "444 Y          "
            ]
          },
          "metadata": {},
          "output_type": "display_data"
        }
      ],
      "source": [
        "# Task 2-c: Find the top 10 men who graduated and had the highest applicant income\n",
        "graduated  <- loan_data_df[which(loan_data_df$Education==\"Graduate\" & loan_data_df$Gender==\"Male\"),]\n",
        "graduated <- graduated[order(graduated$ApplicantIncome, decreasing = TRUE, na.last = TRUE),]\n",
        "head(graduated,5)"
      ]
    },
    {
      "cell_type": "code",
      "execution_count": null,
      "id": "88d8e9ab",
      "metadata": {
        "id": "88d8e9ab",
        "outputId": "0624a427-32ed-43aa-a840-d6512ed2a76e"
      },
      "outputs": [
        {
          "data": {
            "text/html": [
              "63"
            ],
            "text/latex": [
              "63"
            ],
            "text/markdown": [
              "63"
            ],
            "text/plain": [
              "[1] 63"
            ]
          },
          "metadata": {},
          "output_type": "display_data"
        }
      ],
      "source": [
        "# Task 2-d: Find the number of self-employed male applicants from urban area\n",
        "sum(loan_data_df$Self_Employed==\"Yes\" & loan_data_df$Gender==\"Male\")"
      ]
    },
    {
      "cell_type": "markdown",
      "id": "1bcd55ea",
      "metadata": {
        "id": "1bcd55ea"
      },
      "source": [
        "# Task 3: Visualization (30 points)"
      ]
    },
    {
      "cell_type": "code",
      "execution_count": null,
      "id": "f084bde3",
      "metadata": {
        "id": "f084bde3",
        "outputId": "a690ca0f-9047-4730-95c5-540dc72ce000"
      },
      "outputs": [
        {
          "data": {
            "text/html": [
              "<ol class=list-inline>\n",
              "\t<li>285</li>\n",
              "\t<li>113</li>\n",
              "</ol>\n"
            ],
            "text/latex": [
              "\\begin{enumerate*}\n",
              "\\item 285\n",
              "\\item 113\n",
              "\\end{enumerate*}\n"
            ],
            "text/markdown": [
              "1. 285\n",
              "2. 113\n",
              "\n",
              "\n"
            ],
            "text/plain": [
              "[1] 285 113"
            ]
          },
          "metadata": {},
          "output_type": "display_data"
        },
        {
          "data": {
            "text/html": [
              "<ol class=list-inline>\n",
              "\t<li>134</li>\n",
              "\t<li>79</li>\n",
              "</ol>\n"
            ],
            "text/latex": [
              "\\begin{enumerate*}\n",
              "\\item 134\n",
              "\\item 79\n",
              "\\end{enumerate*}\n"
            ],
            "text/markdown": [
              "1. 134\n",
              "2. 79\n",
              "\n",
              "\n"
            ],
            "text/plain": [
              "[1] 134  79"
            ]
          },
          "metadata": {},
          "output_type": "display_data"
        },
        {
          "data": {
            "image/png": "[encoded data removed]",
            "text/plain": [
              "Plot with title \"Married\""
            ]
          },
          "metadata": {},
          "output_type": "display_data"
        },
        {
          "data": {
            "image/png": "[encoded data removed]",
            "text/plain": [
              "Plot with title \"Unmarried\""
            ]
          },
          "metadata": {},
          "output_type": "display_data"
        }
      ],
      "source": [
        "# Task 3-a Make a plot where married applicants are granted loans\n",
        "x <- c(\"Granted Loan\", \"Not Granted Loan\")\n",
        "y <- c(sum(loan_data_df$Married==\"Yes\"&loan_data_df$Loan_Status==\"Y\"),sum(loan_data_df$Married==\"Yes\"&loan_data_df$Loan_Status==\"N\"))\n",
        "y\n",
        "barplot(y, names.arg = x, col = c(\"green\",\"red\"), main=\"Married\")\n",
        "\n",
        "x <- c(\"Granted Loan\", \"Not Granted Loan\")\n",
        "y <- c(sum(loan_data_df$Married==\"No\"&loan_data_df$Loan_Status==\"Y\"),sum(loan_data_df$Married==\"No\"&loan_data_df$Loan_Status==\"N\"))\n",
        "y\n",
        "barplot(y, names.arg = x, col = c(\"green\",\"red\"), main=\"Unmarried\")"
      ]
    },
    {
      "cell_type": "code",
      "execution_count": null,
      "id": "7b66de38",
      "metadata": {
        "id": "7b66de38",
        "outputId": "857f7c03-9e12-4ad0-a950-30c8ae7eff61"
      },
      "outputs": [
        {
          "data": {
            "image/png": "[encoded data removed]",
            "text/plain": [
              "Plot with title \"Property Area\""
            ]
          },
          "metadata": {},
          "output_type": "display_data"
        }
      ],
      "source": [
        "# Task 3-b Create a pie chart for Property_area and display percentages in legend respectively\n",
        "x <- c(sum(loan_data_df$Property_Area==\"Urban\"),sum(loan_data_df$Property_Area==\"Semiurban\"),sum(loan_data_df$Property_Area==\"Rural\"))\n",
        "mylabel <- round((x*100)/sum(x), 1)\n",
        "legend_labels <- c(\"Urban\", \"Semiurban\", \"Rural\")\n",
        "colors<-c(\"blue\", \"yellow\", \"green\")\n",
        "\n",
        "pie(x, label = legend_labels, main = \"Property Area\", col = colors)\n",
        "legend(\"topleft\", legend = mylabel, fill = colors)"
      ]
    },
    {
      "cell_type": "markdown",
      "id": "1e8f4db0",
      "metadata": {
        "id": "1e8f4db0"
      },
      "source": [
        "# Task 4: Insights from the data (20 points)\n",
        "Find out 'interesting' information from the dataset. Give two insights and Create a visualization for each of the insights. Explain in a few lines your reasoning.\n",
        "\n",
        "Your work's uniqueness and quality will be taken into account when evaluating your work (having a meaningful result and an aesthetic visualization)."
      ]
    },
    {
      "cell_type": "code",
      "execution_count": null,
      "id": "9fc2b9b5",
      "metadata": {
        "id": "9fc2b9b5",
        "outputId": "8298fb5d-01f1-4cf1-ddd3-622601cd140a"
      },
      "outputs": [
        {
          "data": {
            "image/png": "[encoded data removed]",
            "text/plain": [
              "Plot with title \"Loan granted\""
            ]
          },
          "metadata": {},
          "output_type": "display_data"
        },
        {
          "data": {
            "image/png": "[encoded data removed]",
            "text/plain": [
              "Plot with title \"Loan not granted\""
            ]
          },
          "metadata": {},
          "output_type": "display_data"
        }
      ],
      "source": [
        "# Code and explaination for Task4\n",
        "x <- c(sum(loan_data_df$Gender==\"Male\" &loan_data_df$Loan_Status==\"Y\")/sum(loan_data_df$Gender==\"Male\"),sum(loan_data_df$Gender==\"Female\"&loan_data_df$Loan_Status==\"Y\")/sum(loan_data_df$Gender==\"Female\"))\n",
        "mylabel <- round((x*100)/sum(x), 1)\n",
        "legend_labels <- c(\"Male\", \"Female\", \"Other\")\n",
        "colors<-c(\"blue\", \"yellow\", \"green\")\n",
        "\n",
        "pie(x, label = legend_labels, main = \"Loan granted\", col = colors)\n",
        "legend(\"topleft\", legend = mylabel, fill = colors)\n",
        "\n",
        "x <- c(sum(loan_data_df$Gender==\"Male\" &loan_data_df$Loan_Status==\"N\")/sum(loan_data_df$Gender==\"Male\"),sum(loan_data_df$Gender==\"Female\"&loan_data_df$Loan_Status==\"N\")/sum(loan_data_df$Gender==\"Female\"))\n",
        "mylabel <- round((x*100)/sum(x), 1)\n",
        "legend_labels <- c(\"Male\", \"Female\", \"Other\")\n",
        "colors<-c(\"blue\", \"yellow\", \"green\")\n",
        "\n",
        "pie(x, label = legend_labels, main = \"Loan not granted\", col = colors)\n",
        "legend(\"topleft\", legend = mylabel, fill = colors)\n",
        "\n"
      ]
    },
    {
      "cell_type": "markdown",
      "id": "266256e7",
      "metadata": {
        "id": "266256e7"
      },
      "source": [
        "Amongst the loan applicants we can see there is almost equal chance that loan is been granted be it male or female, but if you are female than there is slight more possibility that your loan will not be granted"
      ]
    },
    {
      "cell_type": "code",
      "execution_count": null,
      "id": "48fffe6e",
      "metadata": {
        "id": "48fffe6e",
        "outputId": "a2edfae9-1885-446d-da92-8b12b54a7921"
      },
      "outputs": [
        {
          "data": {
            "image/png": "[encoded data removed]",
            "text/plain": [
              "Plot with title \"Loan granted\""
            ]
          },
          "metadata": {},
          "output_type": "display_data"
        },
        {
          "data": {
            "image/png": "[encoded data removed]",
            "text/plain": [
              "Plot with title \"Loan not granted\""
            ]
          },
          "metadata": {},
          "output_type": "display_data"
        }
      ],
      "source": [
        "x <- c(sum(loan_data_df$Education==\"Graduate\"& loan_data_df$Property_Area==\"Urban\" &loan_data_df$Loan_Status==\"Y\")/sum(loan_data_df$Education==\"Graduate\"& loan_data_df$Property_Area==\"Urban\"),\n",
        "       sum(loan_data_df$Education==\"Graduate\"& loan_data_df$Property_Area==\"Semiurban\" &loan_data_df$Loan_Status==\"Y\")/sum(loan_data_df$Education==\"Graduate\"& loan_data_df$Property_Area==\"Semiurban\"),\n",
        "       sum(loan_data_df$Education==\"Graduate\"& loan_data_df$Property_Area==\"Rural\" &loan_data_df$Loan_Status==\"Y\")/sum(loan_data_df$Education==\"Graduate\"& loan_data_df$Property_Area==\"Rural\"),\n",
        "      sum(loan_data_df$Education!=\"Graduate\"& loan_data_df$Property_Area==\"Rural\" &loan_data_df$Loan_Status==\"Y\")/sum(loan_data_df$Education!=\"Graduate\"& loan_data_df$Property_Area==\"Rural\"),\n",
        "      sum(loan_data_df$Education!=\"Graduate\"& loan_data_df$Property_Area==\"Semiurban\" &loan_data_df$Loan_Status==\"Y\")/sum(loan_data_df$Education!=\"Graduate\"& loan_data_df$Property_Area==\"Semiurban\"),\n",
        "       sum(loan_data_df$Education!=\"Graduate\"& loan_data_df$Property_Area==\"Urban\" &loan_data_df$Loan_Status==\"Y\")/sum(loan_data_df$Education!=\"Graduate\"& loan_data_df$Property_Area==\"Urban\"))\n",
        "mylabel <- round((x*100)/sum(x), 1)\n",
        "legend_labels <- c(\"Graduate,Urban\", \"Graduate,Semiurban\", \"Graduate,Rural\",\"Not Graduate,Urban\", \"Not Graduate,Semiurban\", \"Not Graduate,Rural\")\n",
        "colors<-c(rainbow(6))\n",
        "\n",
        "pie(x, label = legend_labels, main = \"Loan granted\", col = colors)\n",
        "legend(\"topleft\", legend = mylabel, fill = colors)\n",
        "\n",
        "x <- c(sum(loan_data_df$Education==\"Graduate\"& loan_data_df$Property_Area==\"Urban\" &loan_data_df$Loan_Status==\"N\")/sum(loan_data_df$Education==\"Graduate\"& loan_data_df$Property_Area==\"Urban\"),\n",
        "       sum(loan_data_df$Education==\"Graduate\"& loan_data_df$Property_Area==\"Semiurban\" &loan_data_df$Loan_Status==\"N\")/sum(loan_data_df$Education==\"Graduate\"& loan_data_df$Property_Area==\"Semiurban\"),\n",
        "       sum(loan_data_df$Education==\"Graduate\"& loan_data_df$Property_Area==\"Rural\" &loan_data_df$Loan_Status==\"N\")/sum(loan_data_df$Education==\"Graduate\"& loan_data_df$Property_Area==\"Rural\"),\n",
        "      sum(loan_data_df$Education!=\"Graduate\"& loan_data_df$Property_Area==\"Rural\" &loan_data_df$Loan_Status==\"N\")/sum(loan_data_df$Education!=\"Graduate\"& loan_data_df$Property_Area==\"Rural\"),\n",
        "      sum(loan_data_df$Education!=\"Graduate\"& loan_data_df$Property_Area==\"Semiurban\" &loan_data_df$Loan_Status==\"N\")/sum(loan_data_df$Education!=\"Graduate\"& loan_data_df$Property_Area==\"Semiurban\"),\n",
        "       sum(loan_data_df$Education!=\"Graduate\"& loan_data_df$Property_Area==\"Urban\" &loan_data_df$Loan_Status==\"N\")/sum(loan_data_df$Education!=\"Graduate\"& loan_data_df$Property_Area==\"Urban\"))\n",
        "mylabel <- round((x*100)/sum(x), 1)\n",
        "legend_labels <- c(\"Graduate,Urban\", \"Graduate,Semiurban\", \"Graduate,Rural\",\"Not Graduate,Urban\", \"Not Graduate,Semiurban\", \"Not Graduate,Rural\")\n",
        "colors<-c(rainbow(6))\n",
        "\n",
        "pie(x, label = legend_labels, main = \"Loan not granted\", col = colors)\n",
        "legend(\"topleft\", legend = mylabel, fill = colors)\n",
        "\n",
        ""
      ]
    },
    {
      "cell_type": "markdown",
      "id": "bcc7bdf4",
      "metadata": {
        "id": "bcc7bdf4"
      },
      "source": [
        "If your property is in Semi Urban Area and your are graduate then you have highest probability of getting loan granted and less of getting rejected. if your property is in Rural Area and you are not a graduate then you have least probability of getting loan granted and more of getting rejected."
      ]
    },
    {
      "cell_type": "code",
      "execution_count": null,
      "id": "37e55957",
      "metadata": {
        "id": "37e55957"
      },
      "outputs": [],
      "source": []
    }
  ],
  "metadata": {
    "kernelspec": {
      "display_name": "R",
      "language": "R",
      "name": "ir"
    },
    "language_info": {
      "codemirror_mode": "r",
      "file_extension": ".r",
      "mimetype": "text/x-r-source",
      "name": "R",
      "pygments_lexer": "r",
      "version": "3.6.1"
    },
    "colab": {
      "provenance": []
    }
  },
  "nbformat": 4,
  "nbformat_minor": 5
}